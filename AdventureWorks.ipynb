{
  "nbformat": 4,
  "nbformat_minor": 0,
  "metadata": {
    "colab": {
      "provenance": [],
      "authorship_tag": "ABX9TyOWuG4QL/p1tKE2I+nRnP0Z",
      "include_colab_link": true
    },
    "kernelspec": {
      "name": "python3",
      "display_name": "Python 3"
    },
    "language_info": {
      "name": "python"
    }
  },
  "cells": [
    {
      "cell_type": "markdown",
      "metadata": {
        "id": "view-in-github",
        "colab_type": "text"
      },
      "source": [
        "<a href=\"https://colab.research.google.com/github/mraoni/bootcamp-unimed-ciencia-dados/blob/main/AdventureWorks.ipynb\" target=\"_parent\"><img src=\"https://colab.research.google.com/assets/colab-badge.svg\" alt=\"Open In Colab\"/></a>"
      ]
    },
    {
      "cell_type": "markdown",
      "source": [
        "## Adicionando bibliotecas e configurações\n"
      ],
      "metadata": {
        "id": "8dUMMKcpkH8Z"
      }
    },
    {
      "cell_type": "code",
      "source": [
        "import pandas as pd\n",
        "import matplotlib as pl\n",
        "pl.style.use(\"ggplot\")"
      ],
      "metadata": {
        "id": "iEcYx-Xei2De"
      },
      "execution_count": 2,
      "outputs": []
    },
    {
      "cell_type": "markdown",
      "source": [
        "## Upload dos arquivos\n"
      ],
      "metadata": {
        "id": "kFyIjBUHkFg-"
      }
    },
    {
      "cell_type": "code",
      "execution_count": 3,
      "metadata": {
        "colab": {
          "base_uri": "https://localhost:8080/",
          "height": 71
        },
        "id": "jKUTn0RUimzB",
        "outputId": "8c819184-3a07-4213-cff9-0a824eda159c"
      },
      "outputs": [
        {
          "output_type": "display_data",
          "data": {
            "text/plain": [
              "<IPython.core.display.HTML object>"
            ],
            "text/html": [
              "\n",
              "     <input type=\"file\" id=\"files-2293f49c-3e3f-446e-9349-1829296f8ed3\" name=\"files[]\" multiple disabled\n",
              "        style=\"border:none\" />\n",
              "     <output id=\"result-2293f49c-3e3f-446e-9349-1829296f8ed3\">\n",
              "      Upload widget is only available when the cell has been executed in the\n",
              "      current browser session. Please rerun this cell to enable.\n",
              "      </output>\n",
              "      <script>// Copyright 2017 Google LLC\n",
              "//\n",
              "// Licensed under the Apache License, Version 2.0 (the \"License\");\n",
              "// you may not use this file except in compliance with the License.\n",
              "// You may obtain a copy of the License at\n",
              "//\n",
              "//      http://www.apache.org/licenses/LICENSE-2.0\n",
              "//\n",
              "// Unless required by applicable law or agreed to in writing, software\n",
              "// distributed under the License is distributed on an \"AS IS\" BASIS,\n",
              "// WITHOUT WARRANTIES OR CONDITIONS OF ANY KIND, either express or implied.\n",
              "// See the License for the specific language governing permissions and\n",
              "// limitations under the License.\n",
              "\n",
              "/**\n",
              " * @fileoverview Helpers for google.colab Python module.\n",
              " */\n",
              "(function(scope) {\n",
              "function span(text, styleAttributes = {}) {\n",
              "  const element = document.createElement('span');\n",
              "  element.textContent = text;\n",
              "  for (const key of Object.keys(styleAttributes)) {\n",
              "    element.style[key] = styleAttributes[key];\n",
              "  }\n",
              "  return element;\n",
              "}\n",
              "\n",
              "// Max number of bytes which will be uploaded at a time.\n",
              "const MAX_PAYLOAD_SIZE = 100 * 1024;\n",
              "\n",
              "function _uploadFiles(inputId, outputId) {\n",
              "  const steps = uploadFilesStep(inputId, outputId);\n",
              "  const outputElement = document.getElementById(outputId);\n",
              "  // Cache steps on the outputElement to make it available for the next call\n",
              "  // to uploadFilesContinue from Python.\n",
              "  outputElement.steps = steps;\n",
              "\n",
              "  return _uploadFilesContinue(outputId);\n",
              "}\n",
              "\n",
              "// This is roughly an async generator (not supported in the browser yet),\n",
              "// where there are multiple asynchronous steps and the Python side is going\n",
              "// to poll for completion of each step.\n",
              "// This uses a Promise to block the python side on completion of each step,\n",
              "// then passes the result of the previous step as the input to the next step.\n",
              "function _uploadFilesContinue(outputId) {\n",
              "  const outputElement = document.getElementById(outputId);\n",
              "  const steps = outputElement.steps;\n",
              "\n",
              "  const next = steps.next(outputElement.lastPromiseValue);\n",
              "  return Promise.resolve(next.value.promise).then((value) => {\n",
              "    // Cache the last promise value to make it available to the next\n",
              "    // step of the generator.\n",
              "    outputElement.lastPromiseValue = value;\n",
              "    return next.value.response;\n",
              "  });\n",
              "}\n",
              "\n",
              "/**\n",
              " * Generator function which is called between each async step of the upload\n",
              " * process.\n",
              " * @param {string} inputId Element ID of the input file picker element.\n",
              " * @param {string} outputId Element ID of the output display.\n",
              " * @return {!Iterable<!Object>} Iterable of next steps.\n",
              " */\n",
              "function* uploadFilesStep(inputId, outputId) {\n",
              "  const inputElement = document.getElementById(inputId);\n",
              "  inputElement.disabled = false;\n",
              "\n",
              "  const outputElement = document.getElementById(outputId);\n",
              "  outputElement.innerHTML = '';\n",
              "\n",
              "  const pickedPromise = new Promise((resolve) => {\n",
              "    inputElement.addEventListener('change', (e) => {\n",
              "      resolve(e.target.files);\n",
              "    });\n",
              "  });\n",
              "\n",
              "  const cancel = document.createElement('button');\n",
              "  inputElement.parentElement.appendChild(cancel);\n",
              "  cancel.textContent = 'Cancel upload';\n",
              "  const cancelPromise = new Promise((resolve) => {\n",
              "    cancel.onclick = () => {\n",
              "      resolve(null);\n",
              "    };\n",
              "  });\n",
              "\n",
              "  // Wait for the user to pick the files.\n",
              "  const files = yield {\n",
              "    promise: Promise.race([pickedPromise, cancelPromise]),\n",
              "    response: {\n",
              "      action: 'starting',\n",
              "    }\n",
              "  };\n",
              "\n",
              "  cancel.remove();\n",
              "\n",
              "  // Disable the input element since further picks are not allowed.\n",
              "  inputElement.disabled = true;\n",
              "\n",
              "  if (!files) {\n",
              "    return {\n",
              "      response: {\n",
              "        action: 'complete',\n",
              "      }\n",
              "    };\n",
              "  }\n",
              "\n",
              "  for (const file of files) {\n",
              "    const li = document.createElement('li');\n",
              "    li.append(span(file.name, {fontWeight: 'bold'}));\n",
              "    li.append(span(\n",
              "        `(${file.type || 'n/a'}) - ${file.size} bytes, ` +\n",
              "        `last modified: ${\n",
              "            file.lastModifiedDate ? file.lastModifiedDate.toLocaleDateString() :\n",
              "                                    'n/a'} - `));\n",
              "    const percent = span('0% done');\n",
              "    li.appendChild(percent);\n",
              "\n",
              "    outputElement.appendChild(li);\n",
              "\n",
              "    const fileDataPromise = new Promise((resolve) => {\n",
              "      const reader = new FileReader();\n",
              "      reader.onload = (e) => {\n",
              "        resolve(e.target.result);\n",
              "      };\n",
              "      reader.readAsArrayBuffer(file);\n",
              "    });\n",
              "    // Wait for the data to be ready.\n",
              "    let fileData = yield {\n",
              "      promise: fileDataPromise,\n",
              "      response: {\n",
              "        action: 'continue',\n",
              "      }\n",
              "    };\n",
              "\n",
              "    // Use a chunked sending to avoid message size limits. See b/62115660.\n",
              "    let position = 0;\n",
              "    do {\n",
              "      const length = Math.min(fileData.byteLength - position, MAX_PAYLOAD_SIZE);\n",
              "      const chunk = new Uint8Array(fileData, position, length);\n",
              "      position += length;\n",
              "\n",
              "      const base64 = btoa(String.fromCharCode.apply(null, chunk));\n",
              "      yield {\n",
              "        response: {\n",
              "          action: 'append',\n",
              "          file: file.name,\n",
              "          data: base64,\n",
              "        },\n",
              "      };\n",
              "\n",
              "      let percentDone = fileData.byteLength === 0 ?\n",
              "          100 :\n",
              "          Math.round((position / fileData.byteLength) * 100);\n",
              "      percent.textContent = `${percentDone}% done`;\n",
              "\n",
              "    } while (position < fileData.byteLength);\n",
              "  }\n",
              "\n",
              "  // All done.\n",
              "  yield {\n",
              "    response: {\n",
              "      action: 'complete',\n",
              "    }\n",
              "  };\n",
              "}\n",
              "\n",
              "scope.google = scope.google || {};\n",
              "scope.google.colab = scope.google.colab || {};\n",
              "scope.google.colab._files = {\n",
              "  _uploadFiles,\n",
              "  _uploadFilesContinue,\n",
              "};\n",
              "})(self);\n",
              "</script> "
            ]
          },
          "metadata": {}
        },
        {
          "output_type": "stream",
          "name": "stdout",
          "text": [
            "Saving AdventureWorks.xlsx to AdventureWorks.xlsx\n"
          ]
        }
      ],
      "source": [
        "from google.colab import files\n",
        "arq = files.upload()"
      ]
    },
    {
      "cell_type": "markdown",
      "source": [
        "## Análise fisica/estrutura do dados"
      ],
      "metadata": {
        "id": "bsSqow8SlXAZ"
      }
    },
    {
      "cell_type": "code",
      "source": [],
      "metadata": {
        "id": "duwWoQoBlz2S"
      },
      "execution_count": null,
      "outputs": []
    },
    {
      "cell_type": "code",
      "source": [
        "#Criando dataframe\n",
        "df = pd.read_excel(\"AdventureWorks.xlsx\")"
      ],
      "metadata": {
        "id": "AOBazw4slsf-"
      },
      "execution_count": 25,
      "outputs": []
    },
    {
      "cell_type": "code",
      "source": [
        "#verificando uma amostragem dos dados\n",
        "df.sample(10)"
      ],
      "metadata": {
        "colab": {
          "base_uri": "https://localhost:8080/",
          "height": 363
        },
        "id": "w12jP1lol1OO",
        "outputId": "28cd5ceb-dbc9-4aaf-9668-871f3703db07"
      },
      "execution_count": 26,
      "outputs": [
        {
          "output_type": "execute_result",
          "data": {
            "text/plain": [
              "    Data Venda Data Envio  ID Loja  ID Produto  ID Cliente       No. Venda  \\\n",
              "677 2009-01-18 2009-01-29      199         384       18907  200901183CS815   \n",
              "518 2009-03-31 2009-04-11      199        1226       18927  200903314CS836   \n",
              "401 2009-11-10 2009-11-18      199        1178       19014  200911104CS929   \n",
              "423 2009-12-15 2009-12-27      306         366       19078  200912153CS780   \n",
              "297 2009-10-13 2009-10-20      199        2497       19003  200910135CS918   \n",
              "718 2009-06-11 2009-06-21      307        2496       19126  200906115CS716   \n",
              "335 2009-01-17 2009-01-24      307         384       19113  200901173CS680   \n",
              "694 2008-11-21 2008-12-04      307        2496       19109  200811215CS655   \n",
              "496 2008-12-29 2009-01-03      199        1155       18901  200812294CS809   \n",
              "185 2008-09-25 2008-10-05      307        1226       19106  200809254CS637   \n",
              "\n",
              "     Custo Unitário  Preço Unitário  Quantidade  Valor Desconto  Valor Venda  \\\n",
              "677          348.58          758.00           5         189.500     3600.500   \n",
              "518          330.99          999.00          10         499.500     9490.500   \n",
              "401          330.66          998.00          20        3992.000    15968.000   \n",
              "423          348.58          758.00           9        1364.400     5457.600   \n",
              "297            5.09            9.99         240           0.000     2397.600   \n",
              "718            5.09            9.99         864         863.136     7768.224   \n",
              "335          348.58          758.00           9        1023.300     5798.700   \n",
              "694            5.09            9.99         312         467.532     2649.348   \n",
              "496          324.69          980.00          25        4900.000    19600.000   \n",
              "185          330.99          999.00          12           0.000    11988.000   \n",
              "\n",
              "                                             Produto       Fabricante  \\\n",
              "677            Adventure Works Laptop15.4W M1548 Red  Adventure Works   \n",
              "518      Fabrikam Trendsetter 1/3'' 8.5mm X200 Black   Fabrikam, Inc.   \n",
              "401      Fabrikam Trendsetter 1/3'' 8.5mm X200 White   Fabrikam, Inc.   \n",
              "423          Adventure Works Laptop15.4W M1548 Black  Adventure Works   \n",
              "297   Headphone Adapter for Contoso Phone E130 White     Contoso, Ltd   \n",
              "718  Headphone Adapter for Contoso Phone E130 Silver     Contoso, Ltd   \n",
              "335            Adventure Works Laptop15.4W M1548 Red  Adventure Works   \n",
              "694  Headphone Adapter for Contoso Phone E130 Silver     Contoso, Ltd   \n",
              "496       Fabrikam Trendsetter 2/3'' 17mm X100 Black   Fabrikam, Inc.   \n",
              "185      Fabrikam Trendsetter 1/3'' 8.5mm X200 Black   Fabrikam, Inc.   \n",
              "\n",
              "               Marca   Classe     Cor  \n",
              "677  Adventure Works  Regular     Red  \n",
              "518         Fabrikam  Regular   Black  \n",
              "401         Fabrikam  Regular   White  \n",
              "423  Adventure Works  Regular   Black  \n",
              "297          Contoso  Economy   White  \n",
              "718          Contoso  Economy  Silver  \n",
              "335  Adventure Works  Regular     Red  \n",
              "694          Contoso  Economy  Silver  \n",
              "496         Fabrikam  Regular   Black  \n",
              "185         Fabrikam  Regular   Black  "
            ],
            "text/html": [
              "\n",
              "  <div id=\"df-21eb661a-9196-47e9-b9f1-0e878fbac7f4\">\n",
              "    <div class=\"colab-df-container\">\n",
              "      <div>\n",
              "<style scoped>\n",
              "    .dataframe tbody tr th:only-of-type {\n",
              "        vertical-align: middle;\n",
              "    }\n",
              "\n",
              "    .dataframe tbody tr th {\n",
              "        vertical-align: top;\n",
              "    }\n",
              "\n",
              "    .dataframe thead th {\n",
              "        text-align: right;\n",
              "    }\n",
              "</style>\n",
              "<table border=\"1\" class=\"dataframe\">\n",
              "  <thead>\n",
              "    <tr style=\"text-align: right;\">\n",
              "      <th></th>\n",
              "      <th>Data Venda</th>\n",
              "      <th>Data Envio</th>\n",
              "      <th>ID Loja</th>\n",
              "      <th>ID Produto</th>\n",
              "      <th>ID Cliente</th>\n",
              "      <th>No. Venda</th>\n",
              "      <th>Custo Unitário</th>\n",
              "      <th>Preço Unitário</th>\n",
              "      <th>Quantidade</th>\n",
              "      <th>Valor Desconto</th>\n",
              "      <th>Valor Venda</th>\n",
              "      <th>Produto</th>\n",
              "      <th>Fabricante</th>\n",
              "      <th>Marca</th>\n",
              "      <th>Classe</th>\n",
              "      <th>Cor</th>\n",
              "    </tr>\n",
              "  </thead>\n",
              "  <tbody>\n",
              "    <tr>\n",
              "      <th>677</th>\n",
              "      <td>2009-01-18</td>\n",
              "      <td>2009-01-29</td>\n",
              "      <td>199</td>\n",
              "      <td>384</td>\n",
              "      <td>18907</td>\n",
              "      <td>200901183CS815</td>\n",
              "      <td>348.58</td>\n",
              "      <td>758.00</td>\n",
              "      <td>5</td>\n",
              "      <td>189.500</td>\n",
              "      <td>3600.500</td>\n",
              "      <td>Adventure Works Laptop15.4W M1548 Red</td>\n",
              "      <td>Adventure Works</td>\n",
              "      <td>Adventure Works</td>\n",
              "      <td>Regular</td>\n",
              "      <td>Red</td>\n",
              "    </tr>\n",
              "    <tr>\n",
              "      <th>518</th>\n",
              "      <td>2009-03-31</td>\n",
              "      <td>2009-04-11</td>\n",
              "      <td>199</td>\n",
              "      <td>1226</td>\n",
              "      <td>18927</td>\n",
              "      <td>200903314CS836</td>\n",
              "      <td>330.99</td>\n",
              "      <td>999.00</td>\n",
              "      <td>10</td>\n",
              "      <td>499.500</td>\n",
              "      <td>9490.500</td>\n",
              "      <td>Fabrikam Trendsetter 1/3'' 8.5mm X200 Black</td>\n",
              "      <td>Fabrikam, Inc.</td>\n",
              "      <td>Fabrikam</td>\n",
              "      <td>Regular</td>\n",
              "      <td>Black</td>\n",
              "    </tr>\n",
              "    <tr>\n",
              "      <th>401</th>\n",
              "      <td>2009-11-10</td>\n",
              "      <td>2009-11-18</td>\n",
              "      <td>199</td>\n",
              "      <td>1178</td>\n",
              "      <td>19014</td>\n",
              "      <td>200911104CS929</td>\n",
              "      <td>330.66</td>\n",
              "      <td>998.00</td>\n",
              "      <td>20</td>\n",
              "      <td>3992.000</td>\n",
              "      <td>15968.000</td>\n",
              "      <td>Fabrikam Trendsetter 1/3'' 8.5mm X200 White</td>\n",
              "      <td>Fabrikam, Inc.</td>\n",
              "      <td>Fabrikam</td>\n",
              "      <td>Regular</td>\n",
              "      <td>White</td>\n",
              "    </tr>\n",
              "    <tr>\n",
              "      <th>423</th>\n",
              "      <td>2009-12-15</td>\n",
              "      <td>2009-12-27</td>\n",
              "      <td>306</td>\n",
              "      <td>366</td>\n",
              "      <td>19078</td>\n",
              "      <td>200912153CS780</td>\n",
              "      <td>348.58</td>\n",
              "      <td>758.00</td>\n",
              "      <td>9</td>\n",
              "      <td>1364.400</td>\n",
              "      <td>5457.600</td>\n",
              "      <td>Adventure Works Laptop15.4W M1548 Black</td>\n",
              "      <td>Adventure Works</td>\n",
              "      <td>Adventure Works</td>\n",
              "      <td>Regular</td>\n",
              "      <td>Black</td>\n",
              "    </tr>\n",
              "    <tr>\n",
              "      <th>297</th>\n",
              "      <td>2009-10-13</td>\n",
              "      <td>2009-10-20</td>\n",
              "      <td>199</td>\n",
              "      <td>2497</td>\n",
              "      <td>19003</td>\n",
              "      <td>200910135CS918</td>\n",
              "      <td>5.09</td>\n",
              "      <td>9.99</td>\n",
              "      <td>240</td>\n",
              "      <td>0.000</td>\n",
              "      <td>2397.600</td>\n",
              "      <td>Headphone Adapter for Contoso Phone E130 White</td>\n",
              "      <td>Contoso, Ltd</td>\n",
              "      <td>Contoso</td>\n",
              "      <td>Economy</td>\n",
              "      <td>White</td>\n",
              "    </tr>\n",
              "    <tr>\n",
              "      <th>718</th>\n",
              "      <td>2009-06-11</td>\n",
              "      <td>2009-06-21</td>\n",
              "      <td>307</td>\n",
              "      <td>2496</td>\n",
              "      <td>19126</td>\n",
              "      <td>200906115CS716</td>\n",
              "      <td>5.09</td>\n",
              "      <td>9.99</td>\n",
              "      <td>864</td>\n",
              "      <td>863.136</td>\n",
              "      <td>7768.224</td>\n",
              "      <td>Headphone Adapter for Contoso Phone E130 Silver</td>\n",
              "      <td>Contoso, Ltd</td>\n",
              "      <td>Contoso</td>\n",
              "      <td>Economy</td>\n",
              "      <td>Silver</td>\n",
              "    </tr>\n",
              "    <tr>\n",
              "      <th>335</th>\n",
              "      <td>2009-01-17</td>\n",
              "      <td>2009-01-24</td>\n",
              "      <td>307</td>\n",
              "      <td>384</td>\n",
              "      <td>19113</td>\n",
              "      <td>200901173CS680</td>\n",
              "      <td>348.58</td>\n",
              "      <td>758.00</td>\n",
              "      <td>9</td>\n",
              "      <td>1023.300</td>\n",
              "      <td>5798.700</td>\n",
              "      <td>Adventure Works Laptop15.4W M1548 Red</td>\n",
              "      <td>Adventure Works</td>\n",
              "      <td>Adventure Works</td>\n",
              "      <td>Regular</td>\n",
              "      <td>Red</td>\n",
              "    </tr>\n",
              "    <tr>\n",
              "      <th>694</th>\n",
              "      <td>2008-11-21</td>\n",
              "      <td>2008-12-04</td>\n",
              "      <td>307</td>\n",
              "      <td>2496</td>\n",
              "      <td>19109</td>\n",
              "      <td>200811215CS655</td>\n",
              "      <td>5.09</td>\n",
              "      <td>9.99</td>\n",
              "      <td>312</td>\n",
              "      <td>467.532</td>\n",
              "      <td>2649.348</td>\n",
              "      <td>Headphone Adapter for Contoso Phone E130 Silver</td>\n",
              "      <td>Contoso, Ltd</td>\n",
              "      <td>Contoso</td>\n",
              "      <td>Economy</td>\n",
              "      <td>Silver</td>\n",
              "    </tr>\n",
              "    <tr>\n",
              "      <th>496</th>\n",
              "      <td>2008-12-29</td>\n",
              "      <td>2009-01-03</td>\n",
              "      <td>199</td>\n",
              "      <td>1155</td>\n",
              "      <td>18901</td>\n",
              "      <td>200812294CS809</td>\n",
              "      <td>324.69</td>\n",
              "      <td>980.00</td>\n",
              "      <td>25</td>\n",
              "      <td>4900.000</td>\n",
              "      <td>19600.000</td>\n",
              "      <td>Fabrikam Trendsetter 2/3'' 17mm X100 Black</td>\n",
              "      <td>Fabrikam, Inc.</td>\n",
              "      <td>Fabrikam</td>\n",
              "      <td>Regular</td>\n",
              "      <td>Black</td>\n",
              "    </tr>\n",
              "    <tr>\n",
              "      <th>185</th>\n",
              "      <td>2008-09-25</td>\n",
              "      <td>2008-10-05</td>\n",
              "      <td>307</td>\n",
              "      <td>1226</td>\n",
              "      <td>19106</td>\n",
              "      <td>200809254CS637</td>\n",
              "      <td>330.99</td>\n",
              "      <td>999.00</td>\n",
              "      <td>12</td>\n",
              "      <td>0.000</td>\n",
              "      <td>11988.000</td>\n",
              "      <td>Fabrikam Trendsetter 1/3'' 8.5mm X200 Black</td>\n",
              "      <td>Fabrikam, Inc.</td>\n",
              "      <td>Fabrikam</td>\n",
              "      <td>Regular</td>\n",
              "      <td>Black</td>\n",
              "    </tr>\n",
              "  </tbody>\n",
              "</table>\n",
              "</div>\n",
              "      <button class=\"colab-df-convert\" onclick=\"convertToInteractive('df-21eb661a-9196-47e9-b9f1-0e878fbac7f4')\"\n",
              "              title=\"Convert this dataframe to an interactive table.\"\n",
              "              style=\"display:none;\">\n",
              "        \n",
              "  <svg xmlns=\"http://www.w3.org/2000/svg\" height=\"24px\"viewBox=\"0 0 24 24\"\n",
              "       width=\"24px\">\n",
              "    <path d=\"M0 0h24v24H0V0z\" fill=\"none\"/>\n",
              "    <path d=\"M18.56 5.44l.94 2.06.94-2.06 2.06-.94-2.06-.94-.94-2.06-.94 2.06-2.06.94zm-11 1L8.5 8.5l.94-2.06 2.06-.94-2.06-.94L8.5 2.5l-.94 2.06-2.06.94zm10 10l.94 2.06.94-2.06 2.06-.94-2.06-.94-.94-2.06-.94 2.06-2.06.94z\"/><path d=\"M17.41 7.96l-1.37-1.37c-.4-.4-.92-.59-1.43-.59-.52 0-1.04.2-1.43.59L10.3 9.45l-7.72 7.72c-.78.78-.78 2.05 0 2.83L4 21.41c.39.39.9.59 1.41.59.51 0 1.02-.2 1.41-.59l7.78-7.78 2.81-2.81c.8-.78.8-2.07 0-2.86zM5.41 20L4 18.59l7.72-7.72 1.47 1.35L5.41 20z\"/>\n",
              "  </svg>\n",
              "      </button>\n",
              "      \n",
              "  <style>\n",
              "    .colab-df-container {\n",
              "      display:flex;\n",
              "      flex-wrap:wrap;\n",
              "      gap: 12px;\n",
              "    }\n",
              "\n",
              "    .colab-df-convert {\n",
              "      background-color: #E8F0FE;\n",
              "      border: none;\n",
              "      border-radius: 50%;\n",
              "      cursor: pointer;\n",
              "      display: none;\n",
              "      fill: #1967D2;\n",
              "      height: 32px;\n",
              "      padding: 0 0 0 0;\n",
              "      width: 32px;\n",
              "    }\n",
              "\n",
              "    .colab-df-convert:hover {\n",
              "      background-color: #E2EBFA;\n",
              "      box-shadow: 0px 1px 2px rgba(60, 64, 67, 0.3), 0px 1px 3px 1px rgba(60, 64, 67, 0.15);\n",
              "      fill: #174EA6;\n",
              "    }\n",
              "\n",
              "    [theme=dark] .colab-df-convert {\n",
              "      background-color: #3B4455;\n",
              "      fill: #D2E3FC;\n",
              "    }\n",
              "\n",
              "    [theme=dark] .colab-df-convert:hover {\n",
              "      background-color: #434B5C;\n",
              "      box-shadow: 0px 1px 3px 1px rgba(0, 0, 0, 0.15);\n",
              "      filter: drop-shadow(0px 1px 2px rgba(0, 0, 0, 0.3));\n",
              "      fill: #FFFFFF;\n",
              "    }\n",
              "  </style>\n",
              "\n",
              "      <script>\n",
              "        const buttonEl =\n",
              "          document.querySelector('#df-21eb661a-9196-47e9-b9f1-0e878fbac7f4 button.colab-df-convert');\n",
              "        buttonEl.style.display =\n",
              "          google.colab.kernel.accessAllowed ? 'block' : 'none';\n",
              "\n",
              "        async function convertToInteractive(key) {\n",
              "          const element = document.querySelector('#df-21eb661a-9196-47e9-b9f1-0e878fbac7f4');\n",
              "          const dataTable =\n",
              "            await google.colab.kernel.invokeFunction('convertToInteractive',\n",
              "                                                     [key], {});\n",
              "          if (!dataTable) return;\n",
              "\n",
              "          const docLinkHtml = 'Like what you see? Visit the ' +\n",
              "            '<a target=\"_blank\" href=https://colab.research.google.com/notebooks/data_table.ipynb>data table notebook</a>'\n",
              "            + ' to learn more about interactive tables.';\n",
              "          element.innerHTML = '';\n",
              "          dataTable['output_type'] = 'display_data';\n",
              "          await google.colab.output.renderOutput(dataTable, element);\n",
              "          const docLink = document.createElement('div');\n",
              "          docLink.innerHTML = docLinkHtml;\n",
              "          element.appendChild(docLink);\n",
              "        }\n",
              "      </script>\n",
              "    </div>\n",
              "  </div>\n",
              "  "
            ]
          },
          "metadata": {},
          "execution_count": 26
        }
      ]
    },
    {
      "cell_type": "code",
      "source": [
        "#identificando os tipos de dados no dataframe\n",
        "df.dtypes"
      ],
      "metadata": {
        "colab": {
          "base_uri": "https://localhost:8080/"
        },
        "id": "ceqEbFa3mFIp",
        "outputId": "b40d4a29-97e4-4ea9-f4ff-0a70a9bc31f6"
      },
      "execution_count": 7,
      "outputs": [
        {
          "output_type": "execute_result",
          "data": {
            "text/plain": [
              "Data Venda        datetime64[ns]\n",
              "Data Envio        datetime64[ns]\n",
              "ID Loja                    int64\n",
              "ID Produto                 int64\n",
              "ID Cliente                 int64\n",
              "No. Venda                 object\n",
              "Custo Unitário           float64\n",
              "Preço Unitário           float64\n",
              "Quantidade                 int64\n",
              "Valor Desconto           float64\n",
              "Valor Venda              float64\n",
              "Produto                   object\n",
              "Fabricante                object\n",
              "Marca                     object\n",
              "Classe                    object\n",
              "Cor                       object\n",
              "dtype: object"
            ]
          },
          "metadata": {},
          "execution_count": 7
        }
      ]
    },
    {
      "cell_type": "code",
      "source": [
        "#dimensoes dos dados\n",
        "df.shape"
      ],
      "metadata": {
        "colab": {
          "base_uri": "https://localhost:8080/"
        },
        "id": "hwBuG1J7BPtQ",
        "outputId": "e122f85d-ec08-48d6-bf7e-568cfd49d560"
      },
      "execution_count": 6,
      "outputs": [
        {
          "output_type": "execute_result",
          "data": {
            "text/plain": [
              "(904, 16)"
            ]
          },
          "metadata": {},
          "execution_count": 6
        }
      ]
    },
    {
      "cell_type": "code",
      "source": [
        "#analisando as metricas dos dados \n",
        "df.describe()"
      ],
      "metadata": {
        "colab": {
          "base_uri": "https://localhost:8080/",
          "height": 300
        },
        "id": "tmJjEQ02Bl1Z",
        "outputId": "a93ffe74-d870-4e97-dfd6-c98e6d92e731"
      },
      "execution_count": 7,
      "outputs": [
        {
          "output_type": "execute_result",
          "data": {
            "text/plain": [
              "          ID Loja   ID Produto    ID Cliente  Custo Unitário  Preço Unitário  \\\n",
              "count  904.000000   904.000000    904.000000      904.000000      904.000000   \n",
              "mean   270.015487  1225.238938  19029.092920      272.006150      742.527965   \n",
              "std     50.955280   706.698742     96.427655      129.765051      368.589889   \n",
              "min    199.000000   366.000000  18815.000000        5.090000        9.990000   \n",
              "25%    199.000000   384.000000  18964.750000      324.690000      758.000000   \n",
              "50%    306.000000  1202.000000  19060.000000      330.660000      980.000000   \n",
              "75%    307.000000  1226.000000  19107.000000      348.580000      998.000000   \n",
              "max    307.000000  2497.000000  19145.000000      348.580000      999.000000   \n",
              "\n",
              "        Quantidade  Valor Desconto   Valor Venda  \n",
              "count   904.000000      904.000000    904.000000  \n",
              "mean     62.950221      689.123294   6620.139538  \n",
              "std     148.945964      822.363117   4319.407257  \n",
              "min       2.000000        0.000000    159.840000  \n",
              "25%       6.000000        0.000000   3920.000000  \n",
              "50%       9.000000      461.166000   5798.700000  \n",
              "75%      17.000000     1005.075000   7986.000000  \n",
              "max    1560.000000     6272.000000  29400.000000  "
            ],
            "text/html": [
              "\n",
              "  <div id=\"df-d972f3f5-cfb5-4fba-bf4f-695bc48904c0\">\n",
              "    <div class=\"colab-df-container\">\n",
              "      <div>\n",
              "<style scoped>\n",
              "    .dataframe tbody tr th:only-of-type {\n",
              "        vertical-align: middle;\n",
              "    }\n",
              "\n",
              "    .dataframe tbody tr th {\n",
              "        vertical-align: top;\n",
              "    }\n",
              "\n",
              "    .dataframe thead th {\n",
              "        text-align: right;\n",
              "    }\n",
              "</style>\n",
              "<table border=\"1\" class=\"dataframe\">\n",
              "  <thead>\n",
              "    <tr style=\"text-align: right;\">\n",
              "      <th></th>\n",
              "      <th>ID Loja</th>\n",
              "      <th>ID Produto</th>\n",
              "      <th>ID Cliente</th>\n",
              "      <th>Custo Unitário</th>\n",
              "      <th>Preço Unitário</th>\n",
              "      <th>Quantidade</th>\n",
              "      <th>Valor Desconto</th>\n",
              "      <th>Valor Venda</th>\n",
              "    </tr>\n",
              "  </thead>\n",
              "  <tbody>\n",
              "    <tr>\n",
              "      <th>count</th>\n",
              "      <td>904.000000</td>\n",
              "      <td>904.000000</td>\n",
              "      <td>904.000000</td>\n",
              "      <td>904.000000</td>\n",
              "      <td>904.000000</td>\n",
              "      <td>904.000000</td>\n",
              "      <td>904.000000</td>\n",
              "      <td>904.000000</td>\n",
              "    </tr>\n",
              "    <tr>\n",
              "      <th>mean</th>\n",
              "      <td>270.015487</td>\n",
              "      <td>1225.238938</td>\n",
              "      <td>19029.092920</td>\n",
              "      <td>272.006150</td>\n",
              "      <td>742.527965</td>\n",
              "      <td>62.950221</td>\n",
              "      <td>689.123294</td>\n",
              "      <td>6620.139538</td>\n",
              "    </tr>\n",
              "    <tr>\n",
              "      <th>std</th>\n",
              "      <td>50.955280</td>\n",
              "      <td>706.698742</td>\n",
              "      <td>96.427655</td>\n",
              "      <td>129.765051</td>\n",
              "      <td>368.589889</td>\n",
              "      <td>148.945964</td>\n",
              "      <td>822.363117</td>\n",
              "      <td>4319.407257</td>\n",
              "    </tr>\n",
              "    <tr>\n",
              "      <th>min</th>\n",
              "      <td>199.000000</td>\n",
              "      <td>366.000000</td>\n",
              "      <td>18815.000000</td>\n",
              "      <td>5.090000</td>\n",
              "      <td>9.990000</td>\n",
              "      <td>2.000000</td>\n",
              "      <td>0.000000</td>\n",
              "      <td>159.840000</td>\n",
              "    </tr>\n",
              "    <tr>\n",
              "      <th>25%</th>\n",
              "      <td>199.000000</td>\n",
              "      <td>384.000000</td>\n",
              "      <td>18964.750000</td>\n",
              "      <td>324.690000</td>\n",
              "      <td>758.000000</td>\n",
              "      <td>6.000000</td>\n",
              "      <td>0.000000</td>\n",
              "      <td>3920.000000</td>\n",
              "    </tr>\n",
              "    <tr>\n",
              "      <th>50%</th>\n",
              "      <td>306.000000</td>\n",
              "      <td>1202.000000</td>\n",
              "      <td>19060.000000</td>\n",
              "      <td>330.660000</td>\n",
              "      <td>980.000000</td>\n",
              "      <td>9.000000</td>\n",
              "      <td>461.166000</td>\n",
              "      <td>5798.700000</td>\n",
              "    </tr>\n",
              "    <tr>\n",
              "      <th>75%</th>\n",
              "      <td>307.000000</td>\n",
              "      <td>1226.000000</td>\n",
              "      <td>19107.000000</td>\n",
              "      <td>348.580000</td>\n",
              "      <td>998.000000</td>\n",
              "      <td>17.000000</td>\n",
              "      <td>1005.075000</td>\n",
              "      <td>7986.000000</td>\n",
              "    </tr>\n",
              "    <tr>\n",
              "      <th>max</th>\n",
              "      <td>307.000000</td>\n",
              "      <td>2497.000000</td>\n",
              "      <td>19145.000000</td>\n",
              "      <td>348.580000</td>\n",
              "      <td>999.000000</td>\n",
              "      <td>1560.000000</td>\n",
              "      <td>6272.000000</td>\n",
              "      <td>29400.000000</td>\n",
              "    </tr>\n",
              "  </tbody>\n",
              "</table>\n",
              "</div>\n",
              "      <button class=\"colab-df-convert\" onclick=\"convertToInteractive('df-d972f3f5-cfb5-4fba-bf4f-695bc48904c0')\"\n",
              "              title=\"Convert this dataframe to an interactive table.\"\n",
              "              style=\"display:none;\">\n",
              "        \n",
              "  <svg xmlns=\"http://www.w3.org/2000/svg\" height=\"24px\"viewBox=\"0 0 24 24\"\n",
              "       width=\"24px\">\n",
              "    <path d=\"M0 0h24v24H0V0z\" fill=\"none\"/>\n",
              "    <path d=\"M18.56 5.44l.94 2.06.94-2.06 2.06-.94-2.06-.94-.94-2.06-.94 2.06-2.06.94zm-11 1L8.5 8.5l.94-2.06 2.06-.94-2.06-.94L8.5 2.5l-.94 2.06-2.06.94zm10 10l.94 2.06.94-2.06 2.06-.94-2.06-.94-.94-2.06-.94 2.06-2.06.94z\"/><path d=\"M17.41 7.96l-1.37-1.37c-.4-.4-.92-.59-1.43-.59-.52 0-1.04.2-1.43.59L10.3 9.45l-7.72 7.72c-.78.78-.78 2.05 0 2.83L4 21.41c.39.39.9.59 1.41.59.51 0 1.02-.2 1.41-.59l7.78-7.78 2.81-2.81c.8-.78.8-2.07 0-2.86zM5.41 20L4 18.59l7.72-7.72 1.47 1.35L5.41 20z\"/>\n",
              "  </svg>\n",
              "      </button>\n",
              "      \n",
              "  <style>\n",
              "    .colab-df-container {\n",
              "      display:flex;\n",
              "      flex-wrap:wrap;\n",
              "      gap: 12px;\n",
              "    }\n",
              "\n",
              "    .colab-df-convert {\n",
              "      background-color: #E8F0FE;\n",
              "      border: none;\n",
              "      border-radius: 50%;\n",
              "      cursor: pointer;\n",
              "      display: none;\n",
              "      fill: #1967D2;\n",
              "      height: 32px;\n",
              "      padding: 0 0 0 0;\n",
              "      width: 32px;\n",
              "    }\n",
              "\n",
              "    .colab-df-convert:hover {\n",
              "      background-color: #E2EBFA;\n",
              "      box-shadow: 0px 1px 2px rgba(60, 64, 67, 0.3), 0px 1px 3px 1px rgba(60, 64, 67, 0.15);\n",
              "      fill: #174EA6;\n",
              "    }\n",
              "\n",
              "    [theme=dark] .colab-df-convert {\n",
              "      background-color: #3B4455;\n",
              "      fill: #D2E3FC;\n",
              "    }\n",
              "\n",
              "    [theme=dark] .colab-df-convert:hover {\n",
              "      background-color: #434B5C;\n",
              "      box-shadow: 0px 1px 3px 1px rgba(0, 0, 0, 0.15);\n",
              "      filter: drop-shadow(0px 1px 2px rgba(0, 0, 0, 0.3));\n",
              "      fill: #FFFFFF;\n",
              "    }\n",
              "  </style>\n",
              "\n",
              "      <script>\n",
              "        const buttonEl =\n",
              "          document.querySelector('#df-d972f3f5-cfb5-4fba-bf4f-695bc48904c0 button.colab-df-convert');\n",
              "        buttonEl.style.display =\n",
              "          google.colab.kernel.accessAllowed ? 'block' : 'none';\n",
              "\n",
              "        async function convertToInteractive(key) {\n",
              "          const element = document.querySelector('#df-d972f3f5-cfb5-4fba-bf4f-695bc48904c0');\n",
              "          const dataTable =\n",
              "            await google.colab.kernel.invokeFunction('convertToInteractive',\n",
              "                                                     [key], {});\n",
              "          if (!dataTable) return;\n",
              "\n",
              "          const docLinkHtml = 'Like what you see? Visit the ' +\n",
              "            '<a target=\"_blank\" href=https://colab.research.google.com/notebooks/data_table.ipynb>data table notebook</a>'\n",
              "            + ' to learn more about interactive tables.';\n",
              "          element.innerHTML = '';\n",
              "          dataTable['output_type'] = 'display_data';\n",
              "          await google.colab.output.renderOutput(dataTable, element);\n",
              "          const docLink = document.createElement('div');\n",
              "          docLink.innerHTML = docLinkHtml;\n",
              "          element.appendChild(docLink);\n",
              "        }\n",
              "      </script>\n",
              "    </div>\n",
              "  </div>\n",
              "  "
            ]
          },
          "metadata": {},
          "execution_count": 7
        }
      ]
    },
    {
      "cell_type": "code",
      "source": [
        "#verificando valores nulos\n",
        "pd.isnull(df).sum()"
      ],
      "metadata": {
        "colab": {
          "base_uri": "https://localhost:8080/"
        },
        "id": "c6c1FOSoCcxl",
        "outputId": "c92470cc-288a-4138-ee32-2046c1e89b18"
      },
      "execution_count": 27,
      "outputs": [
        {
          "output_type": "execute_result",
          "data": {
            "text/plain": [
              "Data Venda        0\n",
              "Data Envio        0\n",
              "ID Loja           0\n",
              "ID Produto        0\n",
              "ID Cliente        0\n",
              "No. Venda         0\n",
              "Custo Unitário    0\n",
              "Preço Unitário    0\n",
              "Quantidade        0\n",
              "Valor Desconto    0\n",
              "Valor Venda       0\n",
              "Produto           0\n",
              "Fabricante        0\n",
              "Marca             0\n",
              "Classe            0\n",
              "Cor               0\n",
              "dtype: int64"
            ]
          },
          "metadata": {},
          "execution_count": 27
        }
      ]
    },
    {
      "cell_type": "code",
      "source": [
        "df[\"Produto\"].value_counts()"
      ],
      "metadata": {
        "colab": {
          "base_uri": "https://localhost:8080/"
        },
        "id": "UGW_1p5JDFqf",
        "outputId": "7a9d753f-588f-4505-88a9-838dc3d89bf2"
      },
      "execution_count": 14,
      "outputs": [
        {
          "output_type": "execute_result",
          "data": {
            "text/plain": [
              "Adventure Works Laptop15.4W M1548 Black            123\n",
              "Fabrikam Trendsetter 2/3'' 17mm X100 Grey          118\n",
              "Adventure Works Laptop15.4W M1548 Red              115\n",
              "Fabrikam Trendsetter 2/3'' 17mm X100 Black         103\n",
              "Fabrikam Trendsetter 1/3'' 8.5mm X200 Grey          94\n",
              "Fabrikam Trendsetter 1/3'' 8.5mm X200 White         90\n",
              "Fabrikam Trendsetter 1/3'' 8.5mm X200 Black         89\n",
              "Headphone Adapter for Contoso Phone E130 Silver     87\n",
              "Headphone Adapter for Contoso Phone E130 White      85\n",
              "Name: Produto, dtype: int64"
            ]
          },
          "metadata": {},
          "execution_count": 14
        }
      ]
    },
    {
      "cell_type": "code",
      "source": [
        "df[\"Marca\"].value_counts()"
      ],
      "metadata": {
        "colab": {
          "base_uri": "https://localhost:8080/"
        },
        "id": "YueWr_f2DYlY",
        "outputId": "d81d05eb-7037-4714-806c-0d415c194315"
      },
      "execution_count": 15,
      "outputs": [
        {
          "output_type": "execute_result",
          "data": {
            "text/plain": [
              "Fabrikam           494\n",
              "Adventure Works    238\n",
              "Contoso            172\n",
              "Name: Marca, dtype: int64"
            ]
          },
          "metadata": {},
          "execution_count": 15
        }
      ]
    },
    {
      "cell_type": "code",
      "source": [
        "df[\"Cor\"].value_counts()"
      ],
      "metadata": {
        "colab": {
          "base_uri": "https://localhost:8080/"
        },
        "id": "4r4UkKWoDbtn",
        "outputId": "368ce8e0-23a2-4159-fa68-9b3e8b116ba2"
      },
      "execution_count": 16,
      "outputs": [
        {
          "output_type": "execute_result",
          "data": {
            "text/plain": [
              "Black     315\n",
              "Grey      212\n",
              "White     175\n",
              "Red       115\n",
              "Silver     87\n",
              "Name: Cor, dtype: int64"
            ]
          },
          "metadata": {},
          "execution_count": 16
        }
      ]
    },
    {
      "cell_type": "code",
      "source": [
        "df[\"Fabricante\"].value_counts()"
      ],
      "metadata": {
        "colab": {
          "base_uri": "https://localhost:8080/"
        },
        "id": "BcLEvxDgD7iD",
        "outputId": "b19797e6-2584-4bb5-b0ea-89bd55cd7f72"
      },
      "execution_count": 17,
      "outputs": [
        {
          "output_type": "execute_result",
          "data": {
            "text/plain": [
              "Fabrikam, Inc.     494\n",
              "Adventure Works    238\n",
              "Contoso, Ltd       172\n",
              "Name: Fabricante, dtype: int64"
            ]
          },
          "metadata": {},
          "execution_count": 17
        }
      ]
    },
    {
      "cell_type": "markdown",
      "source": [
        "#Transformação dos dados "
      ],
      "metadata": {
        "id": "9pB_btqEEKVm"
      }
    },
    {
      "cell_type": "code",
      "source": [
        "# passar colunas para strings\n",
        "df[\"ID Loja\"] = df[\"ID Loja\"].astype(\"str\")\n",
        "df[\"ID Produto\"] = df[\"ID Produto\"].astype(\"str\")\n",
        "df[\"ID Cliente\"] = df[\"ID Cliente\"].astype(\"str\")"
      ],
      "metadata": {
        "id": "8IqyDD_sEQV6"
      },
      "execution_count": 28,
      "outputs": []
    },
    {
      "cell_type": "code",
      "source": [
        "# validando a estrutura\n",
        "df.dtypes"
      ],
      "metadata": {
        "colab": {
          "base_uri": "https://localhost:8080/"
        },
        "id": "BOjYQ1dknlXZ",
        "outputId": "703da61e-68c0-4575-c0bd-7b3916d96214"
      },
      "execution_count": 29,
      "outputs": [
        {
          "output_type": "execute_result",
          "data": {
            "text/plain": [
              "Data Venda        datetime64[ns]\n",
              "Data Envio        datetime64[ns]\n",
              "ID Loja                   object\n",
              "ID Produto                object\n",
              "ID Cliente                object\n",
              "No. Venda                 object\n",
              "Custo Unitário           float64\n",
              "Preço Unitário           float64\n",
              "Quantidade                 int64\n",
              "Valor Desconto           float64\n",
              "Valor Venda              float64\n",
              "Produto                   object\n",
              "Fabricante                object\n",
              "Marca                     object\n",
              "Classe                    object\n",
              "Cor                       object\n",
              "dtype: object"
            ]
          },
          "metadata": {},
          "execution_count": 29
        }
      ]
    },
    {
      "cell_type": "code",
      "source": [
        "# criar coluna adicionais para análise\n",
        "\n",
        "df[\"Ano Venda\"] = df[\"Data Venda\"].dt.year \n",
        "df[\"Mes Venda\"] = df[\"Data Venda\"].dt.month\n",
        "df[\"Dia Venda\"] = df[\"Data Venda\"].dt.day\n",
        "df[\"Ano Envio\"] = df[\"Data Envio\"].dt.year \n",
        "df[\"Mes Envio\"] = df[\"Data Envio\"].dt.month\n",
        "df[\"Dia Envio\"] = df[\"Data Envio\"].dt.day\n",
        "\n",
        "df[\"Valor Receita\"] = (df[\"Valor Venda\"] - df[\"Valor Desconto\"])\n",
        "df[\"Valor Custo\"] = (df[\"Custo Unitário\"] * df[\"Quantidade\"])\n",
        "df[\"Valor Lucro\"] = (df[\"Valor Venda\"] - (df[\"Valor Desconto\"] + df[\"Valor Custo\"]))\n"
      ],
      "metadata": {
        "id": "DqxcTQ_0oAmG"
      },
      "execution_count": 31,
      "outputs": []
    },
    {
      "cell_type": "code",
      "source": [
        "df.sample(10)"
      ],
      "metadata": {
        "colab": {
          "base_uri": "https://localhost:8080/",
          "height": 392
        },
        "id": "NoYySbzTo5TK",
        "outputId": "61bf21b0-e952-457f-8c4f-bfec35f1b402"
      },
      "execution_count": 32,
      "outputs": [
        {
          "output_type": "execute_result",
          "data": {
            "text/plain": [
              "    Data Venda Data Envio ID Loja ID Produto ID Cliente       No. Venda  \\\n",
              "528 2009-10-22 2009-10-31     306       1155      19075  200910224CS765   \n",
              "676 2008-08-16 2008-08-25     306        384      19055  200808163CS608   \n",
              "450 2009-11-05 2009-11-18     307       1155      19139  200911054CS729   \n",
              "261 2008-10-30 2008-11-10     307       2496      19107  200810305CS646   \n",
              "549 2008-12-14 2008-12-18     306       1226      19060  200812144CS676   \n",
              "791 2009-03-03 2009-03-14     307       2497      19117  200903035CS706   \n",
              "494 2008-09-27 2008-10-05     199       1226      18874  200809274CS695   \n",
              "862 2008-02-28 2008-03-06     199        366      18823  200802283CS578   \n",
              "467 2009-11-07 2009-11-13     199       1226      19012  200911074CS927   \n",
              "38  2009-06-05 2009-06-17     306       1178      19068  200906054CS748   \n",
              "\n",
              "     Custo Unitário  Preço Unitário  Quantidade  Valor Desconto  ...     Cor  \\\n",
              "528          324.69          980.00           4         784.000  ...   Black   \n",
              "676          348.58          758.00           5         379.000  ...     Red   \n",
              "450          324.69          980.00          16        2352.000  ...   Black   \n",
              "261            5.09            9.99         120           0.000  ...  Silver   \n",
              "549          330.99          999.00           4         799.200  ...   Black   \n",
              "791            5.09            9.99         432         863.136  ...   White   \n",
              "494          330.99          999.00          26        2597.400  ...   Black   \n",
              "862          348.58          758.00           6         227.400  ...   Black   \n",
              "467          330.99          999.00          15        2997.000  ...   Black   \n",
              "38           330.66          998.00           6           0.000  ...   White   \n",
              "\n",
              "    Ano Venda Mes Venda Dia Venda Ano Envio Mes Envio  Dia Envio  \\\n",
              "528      2009        10        22      2009        10         31   \n",
              "676      2008         8        16      2008         8         25   \n",
              "450      2009        11         5      2009        11         18   \n",
              "261      2008        10        30      2008        11         10   \n",
              "549      2008        12        14      2008        12         18   \n",
              "791      2009         3         3      2009         3         14   \n",
              "494      2008         9        27      2008        10          5   \n",
              "862      2008         2        28      2008         3          6   \n",
              "467      2009        11         7      2009        11         13   \n",
              "38       2009         6         5      2009         6         17   \n",
              "\n",
              "     Valor Receita  Valor Custo  Valor Lucro  \n",
              "528       2352.000      1298.76     1053.240  \n",
              "676       3032.000      1742.90     1289.100  \n",
              "450      10976.000      5195.04     5780.960  \n",
              "261       1198.800       610.80      588.000  \n",
              "549       2397.600      1323.96     1073.640  \n",
              "791       2589.408      2198.88      390.528  \n",
              "494      20779.200      8605.74    12173.460  \n",
              "862       4093.200      2091.48     2001.720  \n",
              "467       8991.000      4964.85     4026.150  \n",
              "38        5988.000      1983.96     4004.040  \n",
              "\n",
              "[10 rows x 25 columns]"
            ],
            "text/html": [
              "\n",
              "  <div id=\"df-a61cb8b0-7b10-46eb-8790-37205945ba0d\">\n",
              "    <div class=\"colab-df-container\">\n",
              "      <div>\n",
              "<style scoped>\n",
              "    .dataframe tbody tr th:only-of-type {\n",
              "        vertical-align: middle;\n",
              "    }\n",
              "\n",
              "    .dataframe tbody tr th {\n",
              "        vertical-align: top;\n",
              "    }\n",
              "\n",
              "    .dataframe thead th {\n",
              "        text-align: right;\n",
              "    }\n",
              "</style>\n",
              "<table border=\"1\" class=\"dataframe\">\n",
              "  <thead>\n",
              "    <tr style=\"text-align: right;\">\n",
              "      <th></th>\n",
              "      <th>Data Venda</th>\n",
              "      <th>Data Envio</th>\n",
              "      <th>ID Loja</th>\n",
              "      <th>ID Produto</th>\n",
              "      <th>ID Cliente</th>\n",
              "      <th>No. Venda</th>\n",
              "      <th>Custo Unitário</th>\n",
              "      <th>Preço Unitário</th>\n",
              "      <th>Quantidade</th>\n",
              "      <th>Valor Desconto</th>\n",
              "      <th>...</th>\n",
              "      <th>Cor</th>\n",
              "      <th>Ano Venda</th>\n",
              "      <th>Mes Venda</th>\n",
              "      <th>Dia Venda</th>\n",
              "      <th>Ano Envio</th>\n",
              "      <th>Mes Envio</th>\n",
              "      <th>Dia Envio</th>\n",
              "      <th>Valor Receita</th>\n",
              "      <th>Valor Custo</th>\n",
              "      <th>Valor Lucro</th>\n",
              "    </tr>\n",
              "  </thead>\n",
              "  <tbody>\n",
              "    <tr>\n",
              "      <th>528</th>\n",
              "      <td>2009-10-22</td>\n",
              "      <td>2009-10-31</td>\n",
              "      <td>306</td>\n",
              "      <td>1155</td>\n",
              "      <td>19075</td>\n",
              "      <td>200910224CS765</td>\n",
              "      <td>324.69</td>\n",
              "      <td>980.00</td>\n",
              "      <td>4</td>\n",
              "      <td>784.000</td>\n",
              "      <td>...</td>\n",
              "      <td>Black</td>\n",
              "      <td>2009</td>\n",
              "      <td>10</td>\n",
              "      <td>22</td>\n",
              "      <td>2009</td>\n",
              "      <td>10</td>\n",
              "      <td>31</td>\n",
              "      <td>2352.000</td>\n",
              "      <td>1298.76</td>\n",
              "      <td>1053.240</td>\n",
              "    </tr>\n",
              "    <tr>\n",
              "      <th>676</th>\n",
              "      <td>2008-08-16</td>\n",
              "      <td>2008-08-25</td>\n",
              "      <td>306</td>\n",
              "      <td>384</td>\n",
              "      <td>19055</td>\n",
              "      <td>200808163CS608</td>\n",
              "      <td>348.58</td>\n",
              "      <td>758.00</td>\n",
              "      <td>5</td>\n",
              "      <td>379.000</td>\n",
              "      <td>...</td>\n",
              "      <td>Red</td>\n",
              "      <td>2008</td>\n",
              "      <td>8</td>\n",
              "      <td>16</td>\n",
              "      <td>2008</td>\n",
              "      <td>8</td>\n",
              "      <td>25</td>\n",
              "      <td>3032.000</td>\n",
              "      <td>1742.90</td>\n",
              "      <td>1289.100</td>\n",
              "    </tr>\n",
              "    <tr>\n",
              "      <th>450</th>\n",
              "      <td>2009-11-05</td>\n",
              "      <td>2009-11-18</td>\n",
              "      <td>307</td>\n",
              "      <td>1155</td>\n",
              "      <td>19139</td>\n",
              "      <td>200911054CS729</td>\n",
              "      <td>324.69</td>\n",
              "      <td>980.00</td>\n",
              "      <td>16</td>\n",
              "      <td>2352.000</td>\n",
              "      <td>...</td>\n",
              "      <td>Black</td>\n",
              "      <td>2009</td>\n",
              "      <td>11</td>\n",
              "      <td>5</td>\n",
              "      <td>2009</td>\n",
              "      <td>11</td>\n",
              "      <td>18</td>\n",
              "      <td>10976.000</td>\n",
              "      <td>5195.04</td>\n",
              "      <td>5780.960</td>\n",
              "    </tr>\n",
              "    <tr>\n",
              "      <th>261</th>\n",
              "      <td>2008-10-30</td>\n",
              "      <td>2008-11-10</td>\n",
              "      <td>307</td>\n",
              "      <td>2496</td>\n",
              "      <td>19107</td>\n",
              "      <td>200810305CS646</td>\n",
              "      <td>5.09</td>\n",
              "      <td>9.99</td>\n",
              "      <td>120</td>\n",
              "      <td>0.000</td>\n",
              "      <td>...</td>\n",
              "      <td>Silver</td>\n",
              "      <td>2008</td>\n",
              "      <td>10</td>\n",
              "      <td>30</td>\n",
              "      <td>2008</td>\n",
              "      <td>11</td>\n",
              "      <td>10</td>\n",
              "      <td>1198.800</td>\n",
              "      <td>610.80</td>\n",
              "      <td>588.000</td>\n",
              "    </tr>\n",
              "    <tr>\n",
              "      <th>549</th>\n",
              "      <td>2008-12-14</td>\n",
              "      <td>2008-12-18</td>\n",
              "      <td>306</td>\n",
              "      <td>1226</td>\n",
              "      <td>19060</td>\n",
              "      <td>200812144CS676</td>\n",
              "      <td>330.99</td>\n",
              "      <td>999.00</td>\n",
              "      <td>4</td>\n",
              "      <td>799.200</td>\n",
              "      <td>...</td>\n",
              "      <td>Black</td>\n",
              "      <td>2008</td>\n",
              "      <td>12</td>\n",
              "      <td>14</td>\n",
              "      <td>2008</td>\n",
              "      <td>12</td>\n",
              "      <td>18</td>\n",
              "      <td>2397.600</td>\n",
              "      <td>1323.96</td>\n",
              "      <td>1073.640</td>\n",
              "    </tr>\n",
              "    <tr>\n",
              "      <th>791</th>\n",
              "      <td>2009-03-03</td>\n",
              "      <td>2009-03-14</td>\n",
              "      <td>307</td>\n",
              "      <td>2497</td>\n",
              "      <td>19117</td>\n",
              "      <td>200903035CS706</td>\n",
              "      <td>5.09</td>\n",
              "      <td>9.99</td>\n",
              "      <td>432</td>\n",
              "      <td>863.136</td>\n",
              "      <td>...</td>\n",
              "      <td>White</td>\n",
              "      <td>2009</td>\n",
              "      <td>3</td>\n",
              "      <td>3</td>\n",
              "      <td>2009</td>\n",
              "      <td>3</td>\n",
              "      <td>14</td>\n",
              "      <td>2589.408</td>\n",
              "      <td>2198.88</td>\n",
              "      <td>390.528</td>\n",
              "    </tr>\n",
              "    <tr>\n",
              "      <th>494</th>\n",
              "      <td>2008-09-27</td>\n",
              "      <td>2008-10-05</td>\n",
              "      <td>199</td>\n",
              "      <td>1226</td>\n",
              "      <td>18874</td>\n",
              "      <td>200809274CS695</td>\n",
              "      <td>330.99</td>\n",
              "      <td>999.00</td>\n",
              "      <td>26</td>\n",
              "      <td>2597.400</td>\n",
              "      <td>...</td>\n",
              "      <td>Black</td>\n",
              "      <td>2008</td>\n",
              "      <td>9</td>\n",
              "      <td>27</td>\n",
              "      <td>2008</td>\n",
              "      <td>10</td>\n",
              "      <td>5</td>\n",
              "      <td>20779.200</td>\n",
              "      <td>8605.74</td>\n",
              "      <td>12173.460</td>\n",
              "    </tr>\n",
              "    <tr>\n",
              "      <th>862</th>\n",
              "      <td>2008-02-28</td>\n",
              "      <td>2008-03-06</td>\n",
              "      <td>199</td>\n",
              "      <td>366</td>\n",
              "      <td>18823</td>\n",
              "      <td>200802283CS578</td>\n",
              "      <td>348.58</td>\n",
              "      <td>758.00</td>\n",
              "      <td>6</td>\n",
              "      <td>227.400</td>\n",
              "      <td>...</td>\n",
              "      <td>Black</td>\n",
              "      <td>2008</td>\n",
              "      <td>2</td>\n",
              "      <td>28</td>\n",
              "      <td>2008</td>\n",
              "      <td>3</td>\n",
              "      <td>6</td>\n",
              "      <td>4093.200</td>\n",
              "      <td>2091.48</td>\n",
              "      <td>2001.720</td>\n",
              "    </tr>\n",
              "    <tr>\n",
              "      <th>467</th>\n",
              "      <td>2009-11-07</td>\n",
              "      <td>2009-11-13</td>\n",
              "      <td>199</td>\n",
              "      <td>1226</td>\n",
              "      <td>19012</td>\n",
              "      <td>200911074CS927</td>\n",
              "      <td>330.99</td>\n",
              "      <td>999.00</td>\n",
              "      <td>15</td>\n",
              "      <td>2997.000</td>\n",
              "      <td>...</td>\n",
              "      <td>Black</td>\n",
              "      <td>2009</td>\n",
              "      <td>11</td>\n",
              "      <td>7</td>\n",
              "      <td>2009</td>\n",
              "      <td>11</td>\n",
              "      <td>13</td>\n",
              "      <td>8991.000</td>\n",
              "      <td>4964.85</td>\n",
              "      <td>4026.150</td>\n",
              "    </tr>\n",
              "    <tr>\n",
              "      <th>38</th>\n",
              "      <td>2009-06-05</td>\n",
              "      <td>2009-06-17</td>\n",
              "      <td>306</td>\n",
              "      <td>1178</td>\n",
              "      <td>19068</td>\n",
              "      <td>200906054CS748</td>\n",
              "      <td>330.66</td>\n",
              "      <td>998.00</td>\n",
              "      <td>6</td>\n",
              "      <td>0.000</td>\n",
              "      <td>...</td>\n",
              "      <td>White</td>\n",
              "      <td>2009</td>\n",
              "      <td>6</td>\n",
              "      <td>5</td>\n",
              "      <td>2009</td>\n",
              "      <td>6</td>\n",
              "      <td>17</td>\n",
              "      <td>5988.000</td>\n",
              "      <td>1983.96</td>\n",
              "      <td>4004.040</td>\n",
              "    </tr>\n",
              "  </tbody>\n",
              "</table>\n",
              "<p>10 rows × 25 columns</p>\n",
              "</div>\n",
              "      <button class=\"colab-df-convert\" onclick=\"convertToInteractive('df-a61cb8b0-7b10-46eb-8790-37205945ba0d')\"\n",
              "              title=\"Convert this dataframe to an interactive table.\"\n",
              "              style=\"display:none;\">\n",
              "        \n",
              "  <svg xmlns=\"http://www.w3.org/2000/svg\" height=\"24px\"viewBox=\"0 0 24 24\"\n",
              "       width=\"24px\">\n",
              "    <path d=\"M0 0h24v24H0V0z\" fill=\"none\"/>\n",
              "    <path d=\"M18.56 5.44l.94 2.06.94-2.06 2.06-.94-2.06-.94-.94-2.06-.94 2.06-2.06.94zm-11 1L8.5 8.5l.94-2.06 2.06-.94-2.06-.94L8.5 2.5l-.94 2.06-2.06.94zm10 10l.94 2.06.94-2.06 2.06-.94-2.06-.94-.94-2.06-.94 2.06-2.06.94z\"/><path d=\"M17.41 7.96l-1.37-1.37c-.4-.4-.92-.59-1.43-.59-.52 0-1.04.2-1.43.59L10.3 9.45l-7.72 7.72c-.78.78-.78 2.05 0 2.83L4 21.41c.39.39.9.59 1.41.59.51 0 1.02-.2 1.41-.59l7.78-7.78 2.81-2.81c.8-.78.8-2.07 0-2.86zM5.41 20L4 18.59l7.72-7.72 1.47 1.35L5.41 20z\"/>\n",
              "  </svg>\n",
              "      </button>\n",
              "      \n",
              "  <style>\n",
              "    .colab-df-container {\n",
              "      display:flex;\n",
              "      flex-wrap:wrap;\n",
              "      gap: 12px;\n",
              "    }\n",
              "\n",
              "    .colab-df-convert {\n",
              "      background-color: #E8F0FE;\n",
              "      border: none;\n",
              "      border-radius: 50%;\n",
              "      cursor: pointer;\n",
              "      display: none;\n",
              "      fill: #1967D2;\n",
              "      height: 32px;\n",
              "      padding: 0 0 0 0;\n",
              "      width: 32px;\n",
              "    }\n",
              "\n",
              "    .colab-df-convert:hover {\n",
              "      background-color: #E2EBFA;\n",
              "      box-shadow: 0px 1px 2px rgba(60, 64, 67, 0.3), 0px 1px 3px 1px rgba(60, 64, 67, 0.15);\n",
              "      fill: #174EA6;\n",
              "    }\n",
              "\n",
              "    [theme=dark] .colab-df-convert {\n",
              "      background-color: #3B4455;\n",
              "      fill: #D2E3FC;\n",
              "    }\n",
              "\n",
              "    [theme=dark] .colab-df-convert:hover {\n",
              "      background-color: #434B5C;\n",
              "      box-shadow: 0px 1px 3px 1px rgba(0, 0, 0, 0.15);\n",
              "      filter: drop-shadow(0px 1px 2px rgba(0, 0, 0, 0.3));\n",
              "      fill: #FFFFFF;\n",
              "    }\n",
              "  </style>\n",
              "\n",
              "      <script>\n",
              "        const buttonEl =\n",
              "          document.querySelector('#df-a61cb8b0-7b10-46eb-8790-37205945ba0d button.colab-df-convert');\n",
              "        buttonEl.style.display =\n",
              "          google.colab.kernel.accessAllowed ? 'block' : 'none';\n",
              "\n",
              "        async function convertToInteractive(key) {\n",
              "          const element = document.querySelector('#df-a61cb8b0-7b10-46eb-8790-37205945ba0d');\n",
              "          const dataTable =\n",
              "            await google.colab.kernel.invokeFunction('convertToInteractive',\n",
              "                                                     [key], {});\n",
              "          if (!dataTable) return;\n",
              "\n",
              "          const docLinkHtml = 'Like what you see? Visit the ' +\n",
              "            '<a target=\"_blank\" href=https://colab.research.google.com/notebooks/data_table.ipynb>data table notebook</a>'\n",
              "            + ' to learn more about interactive tables.';\n",
              "          element.innerHTML = '';\n",
              "          dataTable['output_type'] = 'display_data';\n",
              "          await google.colab.output.renderOutput(dataTable, element);\n",
              "          const docLink = document.createElement('div');\n",
              "          docLink.innerHTML = docLinkHtml;\n",
              "          element.appendChild(docLink);\n",
              "        }\n",
              "      </script>\n",
              "    </div>\n",
              "  </div>\n",
              "  "
            ]
          },
          "metadata": {},
          "execution_count": 32
        }
      ]
    },
    {
      "cell_type": "markdown",
      "source": [
        "# Análise exploratória do dados/negócio"
      ],
      "metadata": {
        "id": "DLTAWtvHml0H"
      }
    },
    {
      "cell_type": "code",
      "source": [
        "# Total de Receita \n",
        "round(df['Valor Receita'].sum(),2)"
      ],
      "metadata": {
        "colab": {
          "base_uri": "https://localhost:8080/"
        },
        "id": "siGdB1i1rnFb",
        "outputId": "29bb760f-bc3c-49fa-ec9d-ba26a712df24"
      },
      "execution_count": 34,
      "outputs": [
        {
          "output_type": "execute_result",
          "data": {
            "text/plain": [
              "5361638.69"
            ]
          },
          "metadata": {},
          "execution_count": 34
        }
      ]
    },
    {
      "cell_type": "code",
      "source": [
        "# receita por ano de venda\n",
        "df.groupby(\"Ano Venda\")[\"Valor Receita\"].sum()"
      ],
      "metadata": {
        "colab": {
          "base_uri": "https://localhost:8080/"
        },
        "id": "XRwKUVARtDO0",
        "outputId": "3a5ad265-1691-4a11-a387-4a8cb9dba92e"
      },
      "execution_count": 36,
      "outputs": [
        {
          "output_type": "execute_result",
          "data": {
            "text/plain": [
              "Ano Venda\n",
              "2008    2.895174e+06\n",
              "2009    2.466465e+06\n",
              "Name: Valor Receita, dtype: float64"
            ]
          },
          "metadata": {},
          "execution_count": 36
        }
      ]
    },
    {
      "cell_type": "code",
      "source": [
        "# Total de custos\n",
        "df[\"Valor Custo\"].sum()"
      ],
      "metadata": {
        "colab": {
          "base_uri": "https://localhost:8080/"
        },
        "id": "NrFogTZBuMOr",
        "outputId": "d275af68-9cd1-4e54-882a-77e91079c9b6"
      },
      "execution_count": 37,
      "outputs": [
        {
          "output_type": "execute_result",
          "data": {
            "text/plain": [
              "2486783.05"
            ]
          },
          "metadata": {},
          "execution_count": 37
        }
      ]
    },
    {
      "cell_type": "code",
      "source": [
        "# custos por ano de venda\n",
        "df.groupby(\"Ano Venda\")[\"Valor Custo\"].sum()\n",
        "\n",
        "#OBS. O valor do custo diminuiu no decorrer do período."
      ],
      "metadata": {
        "colab": {
          "base_uri": "https://localhost:8080/"
        },
        "id": "F0dqK4uavrGK",
        "outputId": "29bba1f6-32a7-4d06-e4e0-2cbc2c570f4f"
      },
      "execution_count": 40,
      "outputs": [
        {
          "output_type": "execute_result",
          "data": {
            "text/plain": [
              "Ano Venda\n",
              "2008    1267529.94\n",
              "2009    1219253.11\n",
              "Name: Valor Custo, dtype: float64"
            ]
          },
          "metadata": {},
          "execution_count": 40
        }
      ]
    },
    {
      "cell_type": "markdown",
      "source": [],
      "metadata": {
        "id": "HR93BnMRvx38"
      }
    },
    {
      "cell_type": "code",
      "source": [
        "# Total de lucro\n",
        "round(df[\"Valor Lucro\"].sum(),2)"
      ],
      "metadata": {
        "colab": {
          "base_uri": "https://localhost:8080/"
        },
        "id": "jbdfJpvcvSEe",
        "outputId": "2fa6d63f-b884-414d-b1ac-d47768b847f5"
      },
      "execution_count": 39,
      "outputs": [
        {
          "output_type": "execute_result",
          "data": {
            "text/plain": [
              "2874855.64"
            ]
          },
          "metadata": {},
          "execution_count": 39
        }
      ]
    },
    {
      "cell_type": "code",
      "source": [
        "# lucro por ano venda\n",
        "df.groupby(\"Ano Venda\")[\"Valor Lucro\"].sum()\n",
        "\n",
        "#OBS. O valor do lucro diminuiu no decorrer do período."
      ],
      "metadata": {
        "colab": {
          "base_uri": "https://localhost:8080/"
        },
        "id": "o56hI17jwQF1",
        "outputId": "c0b3e09c-002d-4d24-ef01-9c27181dcd88"
      },
      "execution_count": 41,
      "outputs": [
        {
          "output_type": "execute_result",
          "data": {
            "text/plain": [
              "Ano Venda\n",
              "2008    1.627644e+06\n",
              "2009    1.247212e+06\n",
              "Name: Valor Lucro, dtype: float64"
            ]
          },
          "metadata": {},
          "execution_count": 41
        }
      ]
    },
    {
      "cell_type": "code",
      "source": [
        "# Se o lucro e custo diminuiram as vendas devem ter caido no período\n",
        "\n",
        "# total de vendas por ano\n",
        "df.groupby(\"Ano Venda\")[\"Valor Venda\"].sum()"
      ],
      "metadata": {
        "colab": {
          "base_uri": "https://localhost:8080/"
        },
        "id": "p4TRxV7ewnAh",
        "outputId": "b0039a72-e465-4eed-cba3-7ccabc056add"
      },
      "execution_count": 44,
      "outputs": [
        {
          "output_type": "execute_result",
          "data": {
            "text/plain": [
              "Ano Venda\n",
              "2008    3.187608e+06\n",
              "2009    2.796998e+06\n",
              "Name: Valor Venda, dtype: float64"
            ]
          },
          "metadata": {},
          "execution_count": 44
        }
      ]
    },
    {
      "cell_type": "code",
      "source": [],
      "metadata": {
        "id": "EX78-iHnyZKQ"
      },
      "execution_count": null,
      "outputs": []
    },
    {
      "cell_type": "markdown",
      "source": [
        "## Agora que temos a receita e custo e o total, podemos achar o Lucro total\n",
        "## Vamos criar uma coluna de Lucro que será Receita - Custo\n"
      ],
      "metadata": {
        "id": "994SfgjUmyAJ"
      }
    },
    {
      "cell_type": "markdown",
      "source": [
        "#Criando uma coluna com total de dias para enviar o produto\n"
      ],
      "metadata": {
        "id": "MRzR1pDSnK8C"
      }
    },
    {
      "cell_type": "markdown",
      "source": [
        "#Criando uma coluna com total de dias para enviar o produto\n"
      ],
      "metadata": {
        "id": "nBYD9wYuAHD1"
      }
    },
    {
      "cell_type": "markdown",
      "source": [
        "#Extraindo apenas os dias"
      ],
      "metadata": {
        "id": "k-jxV2XAAIVl"
      }
    },
    {
      "cell_type": "markdown",
      "source": [
        "#Verificando o tipo da coluna Tempo_envio"
      ],
      "metadata": {
        "id": "aZAT70hxALZn"
      }
    },
    {
      "cell_type": "markdown",
      "source": [
        "#Média do tempo de envio por Marca"
      ],
      "metadata": {
        "id": "m-LlQdAhAPuc"
      }
    },
    {
      "cell_type": "markdown",
      "source": [
        "#Verificando se temos dados faltantes"
      ],
      "metadata": {
        "id": "eDivQUdHASkS"
      }
    },
    {
      "cell_type": "markdown",
      "source": [
        "**E, se a gente quiser saber o Lucro por Ano e Por Marca?**\n"
      ],
      "metadata": {
        "id": "FNNcKk-NAXKM"
      }
    },
    {
      "cell_type": "markdown",
      "source": [
        "#Resetando o index"
      ],
      "metadata": {
        "id": "h7tvz0x0Aas9"
      }
    },
    {
      "cell_type": "markdown",
      "source": [
        "#Qual o total de produtos vendidos?"
      ],
      "metadata": {
        "id": "DDie1sUYAhCn"
      }
    },
    {
      "cell_type": "markdown",
      "source": [
        "#Gráfico Total de produtos vendidos\n"
      ],
      "metadata": {
        "id": "yF7-cFxpAkTK"
      }
    },
    {
      "cell_type": "markdown",
      "source": [
        "#Selecionando apenas as vendas de 2009"
      ],
      "metadata": {
        "id": "S9QM9mviAlnO"
      }
    },
    {
      "cell_type": "markdown",
      "source": [
        "# Lucro x Marca"
      ],
      "metadata": {
        "id": "0FCCVlBHApBB"
      }
    },
    {
      "cell_type": "markdown",
      "source": [
        "#Gráfico de Boxplot"
      ],
      "metadata": {
        "id": "e7vtq-1fA0BI"
      }
    },
    {
      "cell_type": "markdown",
      "source": [
        "#Histograma"
      ],
      "metadata": {
        "id": "RSdBBzTPA3-c"
      }
    },
    {
      "cell_type": "markdown",
      "source": [
        "#Tempo mínimo de envio"
      ],
      "metadata": {
        "id": "9xQKJbz8A81C"
      }
    },
    {
      "cell_type": "markdown",
      "source": [
        "#Tempo máximo de envio"
      ],
      "metadata": {
        "id": "IKGjSXdAA9r0"
      }
    },
    {
      "cell_type": "markdown",
      "source": [
        "#Identificando o Outlier"
      ],
      "metadata": {
        "id": "1v5zf2iKBBtz"
      }
    },
    {
      "cell_type": "markdown",
      "source": [],
      "metadata": {
        "id": "7gi0NVYiA_TP"
      }
    },
    {
      "cell_type": "markdown",
      "source": [],
      "metadata": {
        "id": "XPIPUDXdA1CD"
      }
    },
    {
      "cell_type": "markdown",
      "source": [],
      "metadata": {
        "id": "lplwnyGcAvxU"
      }
    },
    {
      "cell_type": "markdown",
      "source": [],
      "metadata": {
        "id": "IR_5yxVNAiTl"
      }
    },
    {
      "cell_type": "markdown",
      "source": [],
      "metadata": {
        "id": "iXhv-7piAd89"
      }
    },
    {
      "cell_type": "code",
      "source": [],
      "metadata": {
        "id": "4Rh4UI7snFBF"
      },
      "execution_count": null,
      "outputs": []
    }
  ]
}