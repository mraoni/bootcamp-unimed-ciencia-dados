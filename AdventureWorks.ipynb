{
  "nbformat": 4,
  "nbformat_minor": 0,
  "metadata": {
    "colab": {
      "provenance": [],
      "authorship_tag": "ABX9TyMQ/LGCXtQi3Xp6wVhiIuxY",
      "include_colab_link": true
    },
    "kernelspec": {
      "name": "python3",
      "display_name": "Python 3"
    },
    "language_info": {
      "name": "python"
    }
  },
  "cells": [
    {
      "cell_type": "markdown",
      "metadata": {
        "id": "view-in-github",
        "colab_type": "text"
      },
      "source": [
        "<a href=\"https://colab.research.google.com/github/mraoni/bootcamp-unimed-ciencia-dados/blob/main/AdventureWorks.ipynb\" target=\"_parent\"><img src=\"https://colab.research.google.com/assets/colab-badge.svg\" alt=\"Open In Colab\"/></a>"
      ]
    },
    {
      "cell_type": "markdown",
      "source": [
        "## Adicionando bibliotecas e configurações\n"
      ],
      "metadata": {
        "id": "8dUMMKcpkH8Z"
      }
    },
    {
      "cell_type": "code",
      "source": [
        "import pandas as pd\n",
        "import matplotlib.pyplot as plot\n",
        "plot.style.use(\"seaborn\")"
      ],
      "metadata": {
        "id": "iEcYx-Xei2De"
      },
      "execution_count": 1,
      "outputs": []
    },
    {
      "cell_type": "markdown",
      "source": [
        "## Upload dos arquivos\n"
      ],
      "metadata": {
        "id": "kFyIjBUHkFg-"
      }
    },
    {
      "cell_type": "code",
      "execution_count": 2,
      "metadata": {
        "colab": {
          "base_uri": "https://localhost:8080/",
          "height": 73
        },
        "id": "jKUTn0RUimzB",
        "outputId": "351a76eb-fc6e-4290-904a-1483e2802fe4"
      },
      "outputs": [
        {
          "output_type": "display_data",
          "data": {
            "text/plain": [
              "<IPython.core.display.HTML object>"
            ],
            "text/html": [
              "\n",
              "     <input type=\"file\" id=\"files-6aabaf92-f56e-4d3d-b69f-c7f001eefd4f\" name=\"files[]\" multiple disabled\n",
              "        style=\"border:none\" />\n",
              "     <output id=\"result-6aabaf92-f56e-4d3d-b69f-c7f001eefd4f\">\n",
              "      Upload widget is only available when the cell has been executed in the\n",
              "      current browser session. Please rerun this cell to enable.\n",
              "      </output>\n",
              "      <script>// Copyright 2017 Google LLC\n",
              "//\n",
              "// Licensed under the Apache License, Version 2.0 (the \"License\");\n",
              "// you may not use this file except in compliance with the License.\n",
              "// You may obtain a copy of the License at\n",
              "//\n",
              "//      http://www.apache.org/licenses/LICENSE-2.0\n",
              "//\n",
              "// Unless required by applicable law or agreed to in writing, software\n",
              "// distributed under the License is distributed on an \"AS IS\" BASIS,\n",
              "// WITHOUT WARRANTIES OR CONDITIONS OF ANY KIND, either express or implied.\n",
              "// See the License for the specific language governing permissions and\n",
              "// limitations under the License.\n",
              "\n",
              "/**\n",
              " * @fileoverview Helpers for google.colab Python module.\n",
              " */\n",
              "(function(scope) {\n",
              "function span(text, styleAttributes = {}) {\n",
              "  const element = document.createElement('span');\n",
              "  element.textContent = text;\n",
              "  for (const key of Object.keys(styleAttributes)) {\n",
              "    element.style[key] = styleAttributes[key];\n",
              "  }\n",
              "  return element;\n",
              "}\n",
              "\n",
              "// Max number of bytes which will be uploaded at a time.\n",
              "const MAX_PAYLOAD_SIZE = 100 * 1024;\n",
              "\n",
              "function _uploadFiles(inputId, outputId) {\n",
              "  const steps = uploadFilesStep(inputId, outputId);\n",
              "  const outputElement = document.getElementById(outputId);\n",
              "  // Cache steps on the outputElement to make it available for the next call\n",
              "  // to uploadFilesContinue from Python.\n",
              "  outputElement.steps = steps;\n",
              "\n",
              "  return _uploadFilesContinue(outputId);\n",
              "}\n",
              "\n",
              "// This is roughly an async generator (not supported in the browser yet),\n",
              "// where there are multiple asynchronous steps and the Python side is going\n",
              "// to poll for completion of each step.\n",
              "// This uses a Promise to block the python side on completion of each step,\n",
              "// then passes the result of the previous step as the input to the next step.\n",
              "function _uploadFilesContinue(outputId) {\n",
              "  const outputElement = document.getElementById(outputId);\n",
              "  const steps = outputElement.steps;\n",
              "\n",
              "  const next = steps.next(outputElement.lastPromiseValue);\n",
              "  return Promise.resolve(next.value.promise).then((value) => {\n",
              "    // Cache the last promise value to make it available to the next\n",
              "    // step of the generator.\n",
              "    outputElement.lastPromiseValue = value;\n",
              "    return next.value.response;\n",
              "  });\n",
              "}\n",
              "\n",
              "/**\n",
              " * Generator function which is called between each async step of the upload\n",
              " * process.\n",
              " * @param {string} inputId Element ID of the input file picker element.\n",
              " * @param {string} outputId Element ID of the output display.\n",
              " * @return {!Iterable<!Object>} Iterable of next steps.\n",
              " */\n",
              "function* uploadFilesStep(inputId, outputId) {\n",
              "  const inputElement = document.getElementById(inputId);\n",
              "  inputElement.disabled = false;\n",
              "\n",
              "  const outputElement = document.getElementById(outputId);\n",
              "  outputElement.innerHTML = '';\n",
              "\n",
              "  const pickedPromise = new Promise((resolve) => {\n",
              "    inputElement.addEventListener('change', (e) => {\n",
              "      resolve(e.target.files);\n",
              "    });\n",
              "  });\n",
              "\n",
              "  const cancel = document.createElement('button');\n",
              "  inputElement.parentElement.appendChild(cancel);\n",
              "  cancel.textContent = 'Cancel upload';\n",
              "  const cancelPromise = new Promise((resolve) => {\n",
              "    cancel.onclick = () => {\n",
              "      resolve(null);\n",
              "    };\n",
              "  });\n",
              "\n",
              "  // Wait for the user to pick the files.\n",
              "  const files = yield {\n",
              "    promise: Promise.race([pickedPromise, cancelPromise]),\n",
              "    response: {\n",
              "      action: 'starting',\n",
              "    }\n",
              "  };\n",
              "\n",
              "  cancel.remove();\n",
              "\n",
              "  // Disable the input element since further picks are not allowed.\n",
              "  inputElement.disabled = true;\n",
              "\n",
              "  if (!files) {\n",
              "    return {\n",
              "      response: {\n",
              "        action: 'complete',\n",
              "      }\n",
              "    };\n",
              "  }\n",
              "\n",
              "  for (const file of files) {\n",
              "    const li = document.createElement('li');\n",
              "    li.append(span(file.name, {fontWeight: 'bold'}));\n",
              "    li.append(span(\n",
              "        `(${file.type || 'n/a'}) - ${file.size} bytes, ` +\n",
              "        `last modified: ${\n",
              "            file.lastModifiedDate ? file.lastModifiedDate.toLocaleDateString() :\n",
              "                                    'n/a'} - `));\n",
              "    const percent = span('0% done');\n",
              "    li.appendChild(percent);\n",
              "\n",
              "    outputElement.appendChild(li);\n",
              "\n",
              "    const fileDataPromise = new Promise((resolve) => {\n",
              "      const reader = new FileReader();\n",
              "      reader.onload = (e) => {\n",
              "        resolve(e.target.result);\n",
              "      };\n",
              "      reader.readAsArrayBuffer(file);\n",
              "    });\n",
              "    // Wait for the data to be ready.\n",
              "    let fileData = yield {\n",
              "      promise: fileDataPromise,\n",
              "      response: {\n",
              "        action: 'continue',\n",
              "      }\n",
              "    };\n",
              "\n",
              "    // Use a chunked sending to avoid message size limits. See b/62115660.\n",
              "    let position = 0;\n",
              "    do {\n",
              "      const length = Math.min(fileData.byteLength - position, MAX_PAYLOAD_SIZE);\n",
              "      const chunk = new Uint8Array(fileData, position, length);\n",
              "      position += length;\n",
              "\n",
              "      const base64 = btoa(String.fromCharCode.apply(null, chunk));\n",
              "      yield {\n",
              "        response: {\n",
              "          action: 'append',\n",
              "          file: file.name,\n",
              "          data: base64,\n",
              "        },\n",
              "      };\n",
              "\n",
              "      let percentDone = fileData.byteLength === 0 ?\n",
              "          100 :\n",
              "          Math.round((position / fileData.byteLength) * 100);\n",
              "      percent.textContent = `${percentDone}% done`;\n",
              "\n",
              "    } while (position < fileData.byteLength);\n",
              "  }\n",
              "\n",
              "  // All done.\n",
              "  yield {\n",
              "    response: {\n",
              "      action: 'complete',\n",
              "    }\n",
              "  };\n",
              "}\n",
              "\n",
              "scope.google = scope.google || {};\n",
              "scope.google.colab = scope.google.colab || {};\n",
              "scope.google.colab._files = {\n",
              "  _uploadFiles,\n",
              "  _uploadFilesContinue,\n",
              "};\n",
              "})(self);\n",
              "</script> "
            ]
          },
          "metadata": {}
        },
        {
          "output_type": "stream",
          "name": "stdout",
          "text": [
            "Saving AdventureWorks.xlsx to AdventureWorks.xlsx\n"
          ]
        }
      ],
      "source": [
        "from google.colab import files\n",
        "arq = files.upload()"
      ]
    },
    {
      "cell_type": "markdown",
      "source": [
        "## Análise fisica/estrutura do dados"
      ],
      "metadata": {
        "id": "bsSqow8SlXAZ"
      }
    },
    {
      "cell_type": "code",
      "source": [
        "#ajusta forma de saida dos valores\n",
        "pd.set_option('display.float_format', '{:.2f}'.format)"
      ],
      "metadata": {
        "id": "duwWoQoBlz2S"
      },
      "execution_count": 3,
      "outputs": []
    },
    {
      "cell_type": "code",
      "source": [
        "#Criando dataframe\n",
        "df = pd.read_excel(\"AdventureWorks.xlsx\")"
      ],
      "metadata": {
        "id": "AOBazw4slsf-"
      },
      "execution_count": 4,
      "outputs": []
    },
    {
      "cell_type": "code",
      "source": [
        "#verificando uma amostragem dos dados\n",
        "df.sample(10)"
      ],
      "metadata": {
        "colab": {
          "base_uri": "https://localhost:8080/",
          "height": 719
        },
        "id": "w12jP1lol1OO",
        "outputId": "01bd4524-be69-4985-e6e3-a289791dac5c"
      },
      "execution_count": 5,
      "outputs": [
        {
          "output_type": "execute_result",
          "data": {
            "text/plain": [
              "    Data Venda Data Envio  ID Loja  ID Produto  ID Cliente       No. Venda  \\\n",
              "295 2009-06-28 2009-07-11      199        2497       18959  200906285CS870   \n",
              "133 2008-07-01 2008-07-09      306         366       19054  200807013CS588   \n",
              "773 2009-11-03 2009-11-07      199        2497       19010  200911035CS925   \n",
              "800 2009-12-31 2010-01-09      307        2497       19145  200912315CS735   \n",
              "523 2009-10-03 2009-10-12      306        1202       19075  200910034CS765   \n",
              "507 2009-06-26 2009-07-07      307         366       19127  200906263CS717   \n",
              "448 2009-08-24 2009-08-31      199        1155       18983  200908244CS896   \n",
              "84  2009-07-25 2009-07-30      306        1203       19071  200907254CS760   \n",
              "691 2008-11-10 2008-11-19      199        2496       18885  200811105CS790   \n",
              "762 2008-12-03 2008-12-10      199        2497       18893  200812035CS800   \n",
              "\n",
              "     Custo Unitário  Preço Unitário  Quantidade  Valor Desconto  Valor Venda  \\\n",
              "295            5.09            9.99         240            0.00      2397.60   \n",
              "133          348.58          758.00           6            0.00      4548.00   \n",
              "773            5.09            9.99         312          623.38      2493.50   \n",
              "800            5.09            9.99        1560         2337.66     13246.74   \n",
              "523          330.66          998.00           4          798.40      3193.60   \n",
              "507          348.58          758.00           7          530.60      4775.40   \n",
              "448          324.69          980.00          16         1568.00     14112.00   \n",
              "84           324.69          980.00           6            0.00      5880.00   \n",
              "691            5.09            9.99         468          935.06      3740.26   \n",
              "762            5.09            9.99         156          311.69      1246.75   \n",
              "\n",
              "                                             Produto       Fabricante  \\\n",
              "295   Headphone Adapter for Contoso Phone E130 White     Contoso, Ltd   \n",
              "133          Adventure Works Laptop15.4W M1548 Black  Adventure Works   \n",
              "773   Headphone Adapter for Contoso Phone E130 White     Contoso, Ltd   \n",
              "800   Headphone Adapter for Contoso Phone E130 White     Contoso, Ltd   \n",
              "523       Fabrikam Trendsetter 1/3'' 8.5mm X200 Grey   Fabrikam, Inc.   \n",
              "507          Adventure Works Laptop15.4W M1548 Black  Adventure Works   \n",
              "448       Fabrikam Trendsetter 2/3'' 17mm X100 Black   Fabrikam, Inc.   \n",
              "84         Fabrikam Trendsetter 2/3'' 17mm X100 Grey   Fabrikam, Inc.   \n",
              "691  Headphone Adapter for Contoso Phone E130 Silver     Contoso, Ltd   \n",
              "762   Headphone Adapter for Contoso Phone E130 White     Contoso, Ltd   \n",
              "\n",
              "               Marca   Classe     Cor  \n",
              "295          Contoso  Economy   White  \n",
              "133  Adventure Works  Regular   Black  \n",
              "773          Contoso  Economy   White  \n",
              "800          Contoso  Economy   White  \n",
              "523         Fabrikam  Regular    Grey  \n",
              "507  Adventure Works  Regular   Black  \n",
              "448         Fabrikam  Regular   Black  \n",
              "84          Fabrikam  Regular    Grey  \n",
              "691          Contoso  Economy  Silver  \n",
              "762          Contoso  Economy   White  "
            ],
            "text/html": [
              "\n",
              "  <div id=\"df-a4442b59-2ff3-4794-98c6-feea64550832\">\n",
              "    <div class=\"colab-df-container\">\n",
              "      <div>\n",
              "<style scoped>\n",
              "    .dataframe tbody tr th:only-of-type {\n",
              "        vertical-align: middle;\n",
              "    }\n",
              "\n",
              "    .dataframe tbody tr th {\n",
              "        vertical-align: top;\n",
              "    }\n",
              "\n",
              "    .dataframe thead th {\n",
              "        text-align: right;\n",
              "    }\n",
              "</style>\n",
              "<table border=\"1\" class=\"dataframe\">\n",
              "  <thead>\n",
              "    <tr style=\"text-align: right;\">\n",
              "      <th></th>\n",
              "      <th>Data Venda</th>\n",
              "      <th>Data Envio</th>\n",
              "      <th>ID Loja</th>\n",
              "      <th>ID Produto</th>\n",
              "      <th>ID Cliente</th>\n",
              "      <th>No. Venda</th>\n",
              "      <th>Custo Unitário</th>\n",
              "      <th>Preço Unitário</th>\n",
              "      <th>Quantidade</th>\n",
              "      <th>Valor Desconto</th>\n",
              "      <th>Valor Venda</th>\n",
              "      <th>Produto</th>\n",
              "      <th>Fabricante</th>\n",
              "      <th>Marca</th>\n",
              "      <th>Classe</th>\n",
              "      <th>Cor</th>\n",
              "    </tr>\n",
              "  </thead>\n",
              "  <tbody>\n",
              "    <tr>\n",
              "      <th>295</th>\n",
              "      <td>2009-06-28</td>\n",
              "      <td>2009-07-11</td>\n",
              "      <td>199</td>\n",
              "      <td>2497</td>\n",
              "      <td>18959</td>\n",
              "      <td>200906285CS870</td>\n",
              "      <td>5.09</td>\n",
              "      <td>9.99</td>\n",
              "      <td>240</td>\n",
              "      <td>0.00</td>\n",
              "      <td>2397.60</td>\n",
              "      <td>Headphone Adapter for Contoso Phone E130 White</td>\n",
              "      <td>Contoso, Ltd</td>\n",
              "      <td>Contoso</td>\n",
              "      <td>Economy</td>\n",
              "      <td>White</td>\n",
              "    </tr>\n",
              "    <tr>\n",
              "      <th>133</th>\n",
              "      <td>2008-07-01</td>\n",
              "      <td>2008-07-09</td>\n",
              "      <td>306</td>\n",
              "      <td>366</td>\n",
              "      <td>19054</td>\n",
              "      <td>200807013CS588</td>\n",
              "      <td>348.58</td>\n",
              "      <td>758.00</td>\n",
              "      <td>6</td>\n",
              "      <td>0.00</td>\n",
              "      <td>4548.00</td>\n",
              "      <td>Adventure Works Laptop15.4W M1548 Black</td>\n",
              "      <td>Adventure Works</td>\n",
              "      <td>Adventure Works</td>\n",
              "      <td>Regular</td>\n",
              "      <td>Black</td>\n",
              "    </tr>\n",
              "    <tr>\n",
              "      <th>773</th>\n",
              "      <td>2009-11-03</td>\n",
              "      <td>2009-11-07</td>\n",
              "      <td>199</td>\n",
              "      <td>2497</td>\n",
              "      <td>19010</td>\n",
              "      <td>200911035CS925</td>\n",
              "      <td>5.09</td>\n",
              "      <td>9.99</td>\n",
              "      <td>312</td>\n",
              "      <td>623.38</td>\n",
              "      <td>2493.50</td>\n",
              "      <td>Headphone Adapter for Contoso Phone E130 White</td>\n",
              "      <td>Contoso, Ltd</td>\n",
              "      <td>Contoso</td>\n",
              "      <td>Economy</td>\n",
              "      <td>White</td>\n",
              "    </tr>\n",
              "    <tr>\n",
              "      <th>800</th>\n",
              "      <td>2009-12-31</td>\n",
              "      <td>2010-01-09</td>\n",
              "      <td>307</td>\n",
              "      <td>2497</td>\n",
              "      <td>19145</td>\n",
              "      <td>200912315CS735</td>\n",
              "      <td>5.09</td>\n",
              "      <td>9.99</td>\n",
              "      <td>1560</td>\n",
              "      <td>2337.66</td>\n",
              "      <td>13246.74</td>\n",
              "      <td>Headphone Adapter for Contoso Phone E130 White</td>\n",
              "      <td>Contoso, Ltd</td>\n",
              "      <td>Contoso</td>\n",
              "      <td>Economy</td>\n",
              "      <td>White</td>\n",
              "    </tr>\n",
              "    <tr>\n",
              "      <th>523</th>\n",
              "      <td>2009-10-03</td>\n",
              "      <td>2009-10-12</td>\n",
              "      <td>306</td>\n",
              "      <td>1202</td>\n",
              "      <td>19075</td>\n",
              "      <td>200910034CS765</td>\n",
              "      <td>330.66</td>\n",
              "      <td>998.00</td>\n",
              "      <td>4</td>\n",
              "      <td>798.40</td>\n",
              "      <td>3193.60</td>\n",
              "      <td>Fabrikam Trendsetter 1/3'' 8.5mm X200 Grey</td>\n",
              "      <td>Fabrikam, Inc.</td>\n",
              "      <td>Fabrikam</td>\n",
              "      <td>Regular</td>\n",
              "      <td>Grey</td>\n",
              "    </tr>\n",
              "    <tr>\n",
              "      <th>507</th>\n",
              "      <td>2009-06-26</td>\n",
              "      <td>2009-07-07</td>\n",
              "      <td>307</td>\n",
              "      <td>366</td>\n",
              "      <td>19127</td>\n",
              "      <td>200906263CS717</td>\n",
              "      <td>348.58</td>\n",
              "      <td>758.00</td>\n",
              "      <td>7</td>\n",
              "      <td>530.60</td>\n",
              "      <td>4775.40</td>\n",
              "      <td>Adventure Works Laptop15.4W M1548 Black</td>\n",
              "      <td>Adventure Works</td>\n",
              "      <td>Adventure Works</td>\n",
              "      <td>Regular</td>\n",
              "      <td>Black</td>\n",
              "    </tr>\n",
              "    <tr>\n",
              "      <th>448</th>\n",
              "      <td>2009-08-24</td>\n",
              "      <td>2009-08-31</td>\n",
              "      <td>199</td>\n",
              "      <td>1155</td>\n",
              "      <td>18983</td>\n",
              "      <td>200908244CS896</td>\n",
              "      <td>324.69</td>\n",
              "      <td>980.00</td>\n",
              "      <td>16</td>\n",
              "      <td>1568.00</td>\n",
              "      <td>14112.00</td>\n",
              "      <td>Fabrikam Trendsetter 2/3'' 17mm X100 Black</td>\n",
              "      <td>Fabrikam, Inc.</td>\n",
              "      <td>Fabrikam</td>\n",
              "      <td>Regular</td>\n",
              "      <td>Black</td>\n",
              "    </tr>\n",
              "    <tr>\n",
              "      <th>84</th>\n",
              "      <td>2009-07-25</td>\n",
              "      <td>2009-07-30</td>\n",
              "      <td>306</td>\n",
              "      <td>1203</td>\n",
              "      <td>19071</td>\n",
              "      <td>200907254CS760</td>\n",
              "      <td>324.69</td>\n",
              "      <td>980.00</td>\n",
              "      <td>6</td>\n",
              "      <td>0.00</td>\n",
              "      <td>5880.00</td>\n",
              "      <td>Fabrikam Trendsetter 2/3'' 17mm X100 Grey</td>\n",
              "      <td>Fabrikam, Inc.</td>\n",
              "      <td>Fabrikam</td>\n",
              "      <td>Regular</td>\n",
              "      <td>Grey</td>\n",
              "    </tr>\n",
              "    <tr>\n",
              "      <th>691</th>\n",
              "      <td>2008-11-10</td>\n",
              "      <td>2008-11-19</td>\n",
              "      <td>199</td>\n",
              "      <td>2496</td>\n",
              "      <td>18885</td>\n",
              "      <td>200811105CS790</td>\n",
              "      <td>5.09</td>\n",
              "      <td>9.99</td>\n",
              "      <td>468</td>\n",
              "      <td>935.06</td>\n",
              "      <td>3740.26</td>\n",
              "      <td>Headphone Adapter for Contoso Phone E130 Silver</td>\n",
              "      <td>Contoso, Ltd</td>\n",
              "      <td>Contoso</td>\n",
              "      <td>Economy</td>\n",
              "      <td>Silver</td>\n",
              "    </tr>\n",
              "    <tr>\n",
              "      <th>762</th>\n",
              "      <td>2008-12-03</td>\n",
              "      <td>2008-12-10</td>\n",
              "      <td>199</td>\n",
              "      <td>2497</td>\n",
              "      <td>18893</td>\n",
              "      <td>200812035CS800</td>\n",
              "      <td>5.09</td>\n",
              "      <td>9.99</td>\n",
              "      <td>156</td>\n",
              "      <td>311.69</td>\n",
              "      <td>1246.75</td>\n",
              "      <td>Headphone Adapter for Contoso Phone E130 White</td>\n",
              "      <td>Contoso, Ltd</td>\n",
              "      <td>Contoso</td>\n",
              "      <td>Economy</td>\n",
              "      <td>White</td>\n",
              "    </tr>\n",
              "  </tbody>\n",
              "</table>\n",
              "</div>\n",
              "      <button class=\"colab-df-convert\" onclick=\"convertToInteractive('df-a4442b59-2ff3-4794-98c6-feea64550832')\"\n",
              "              title=\"Convert this dataframe to an interactive table.\"\n",
              "              style=\"display:none;\">\n",
              "        \n",
              "  <svg xmlns=\"http://www.w3.org/2000/svg\" height=\"24px\"viewBox=\"0 0 24 24\"\n",
              "       width=\"24px\">\n",
              "    <path d=\"M0 0h24v24H0V0z\" fill=\"none\"/>\n",
              "    <path d=\"M18.56 5.44l.94 2.06.94-2.06 2.06-.94-2.06-.94-.94-2.06-.94 2.06-2.06.94zm-11 1L8.5 8.5l.94-2.06 2.06-.94-2.06-.94L8.5 2.5l-.94 2.06-2.06.94zm10 10l.94 2.06.94-2.06 2.06-.94-2.06-.94-.94-2.06-.94 2.06-2.06.94z\"/><path d=\"M17.41 7.96l-1.37-1.37c-.4-.4-.92-.59-1.43-.59-.52 0-1.04.2-1.43.59L10.3 9.45l-7.72 7.72c-.78.78-.78 2.05 0 2.83L4 21.41c.39.39.9.59 1.41.59.51 0 1.02-.2 1.41-.59l7.78-7.78 2.81-2.81c.8-.78.8-2.07 0-2.86zM5.41 20L4 18.59l7.72-7.72 1.47 1.35L5.41 20z\"/>\n",
              "  </svg>\n",
              "      </button>\n",
              "      \n",
              "  <style>\n",
              "    .colab-df-container {\n",
              "      display:flex;\n",
              "      flex-wrap:wrap;\n",
              "      gap: 12px;\n",
              "    }\n",
              "\n",
              "    .colab-df-convert {\n",
              "      background-color: #E8F0FE;\n",
              "      border: none;\n",
              "      border-radius: 50%;\n",
              "      cursor: pointer;\n",
              "      display: none;\n",
              "      fill: #1967D2;\n",
              "      height: 32px;\n",
              "      padding: 0 0 0 0;\n",
              "      width: 32px;\n",
              "    }\n",
              "\n",
              "    .colab-df-convert:hover {\n",
              "      background-color: #E2EBFA;\n",
              "      box-shadow: 0px 1px 2px rgba(60, 64, 67, 0.3), 0px 1px 3px 1px rgba(60, 64, 67, 0.15);\n",
              "      fill: #174EA6;\n",
              "    }\n",
              "\n",
              "    [theme=dark] .colab-df-convert {\n",
              "      background-color: #3B4455;\n",
              "      fill: #D2E3FC;\n",
              "    }\n",
              "\n",
              "    [theme=dark] .colab-df-convert:hover {\n",
              "      background-color: #434B5C;\n",
              "      box-shadow: 0px 1px 3px 1px rgba(0, 0, 0, 0.15);\n",
              "      filter: drop-shadow(0px 1px 2px rgba(0, 0, 0, 0.3));\n",
              "      fill: #FFFFFF;\n",
              "    }\n",
              "  </style>\n",
              "\n",
              "      <script>\n",
              "        const buttonEl =\n",
              "          document.querySelector('#df-a4442b59-2ff3-4794-98c6-feea64550832 button.colab-df-convert');\n",
              "        buttonEl.style.display =\n",
              "          google.colab.kernel.accessAllowed ? 'block' : 'none';\n",
              "\n",
              "        async function convertToInteractive(key) {\n",
              "          const element = document.querySelector('#df-a4442b59-2ff3-4794-98c6-feea64550832');\n",
              "          const dataTable =\n",
              "            await google.colab.kernel.invokeFunction('convertToInteractive',\n",
              "                                                     [key], {});\n",
              "          if (!dataTable) return;\n",
              "\n",
              "          const docLinkHtml = 'Like what you see? Visit the ' +\n",
              "            '<a target=\"_blank\" href=https://colab.research.google.com/notebooks/data_table.ipynb>data table notebook</a>'\n",
              "            + ' to learn more about interactive tables.';\n",
              "          element.innerHTML = '';\n",
              "          dataTable['output_type'] = 'display_data';\n",
              "          await google.colab.output.renderOutput(dataTable, element);\n",
              "          const docLink = document.createElement('div');\n",
              "          docLink.innerHTML = docLinkHtml;\n",
              "          element.appendChild(docLink);\n",
              "        }\n",
              "      </script>\n",
              "    </div>\n",
              "  </div>\n",
              "  "
            ]
          },
          "metadata": {},
          "execution_count": 5
        }
      ]
    },
    {
      "cell_type": "code",
      "source": [
        "#identificando os tipos de dados no dataframe\n",
        "df.dtypes"
      ],
      "metadata": {
        "colab": {
          "base_uri": "https://localhost:8080/"
        },
        "id": "ceqEbFa3mFIp",
        "outputId": "70a1d07d-412b-444c-a309-2abc2ca0838f"
      },
      "execution_count": 6,
      "outputs": [
        {
          "output_type": "execute_result",
          "data": {
            "text/plain": [
              "Data Venda        datetime64[ns]\n",
              "Data Envio        datetime64[ns]\n",
              "ID Loja                    int64\n",
              "ID Produto                 int64\n",
              "ID Cliente                 int64\n",
              "No. Venda                 object\n",
              "Custo Unitário           float64\n",
              "Preço Unitário           float64\n",
              "Quantidade                 int64\n",
              "Valor Desconto           float64\n",
              "Valor Venda              float64\n",
              "Produto                   object\n",
              "Fabricante                object\n",
              "Marca                     object\n",
              "Classe                    object\n",
              "Cor                       object\n",
              "dtype: object"
            ]
          },
          "metadata": {},
          "execution_count": 6
        }
      ]
    },
    {
      "cell_type": "code",
      "source": [
        "#dimensoes dos dados\n",
        "df.shape"
      ],
      "metadata": {
        "colab": {
          "base_uri": "https://localhost:8080/"
        },
        "id": "hwBuG1J7BPtQ",
        "outputId": "cd87b170-f412-4b51-8c9d-7d9bcde245d7"
      },
      "execution_count": 7,
      "outputs": [
        {
          "output_type": "execute_result",
          "data": {
            "text/plain": [
              "(904, 16)"
            ]
          },
          "metadata": {},
          "execution_count": 7
        }
      ]
    },
    {
      "cell_type": "code",
      "source": [
        "#analisando as metricas dos dados \n",
        "df.describe()"
      ],
      "metadata": {
        "colab": {
          "base_uri": "https://localhost:8080/",
          "height": 300
        },
        "id": "tmJjEQ02Bl1Z",
        "outputId": "501b3c78-3f97-4e1b-9cdc-92303625be48"
      },
      "execution_count": 8,
      "outputs": [
        {
          "output_type": "execute_result",
          "data": {
            "text/plain": [
              "       ID Loja  ID Produto  ID Cliente  Custo Unitário  Preço Unitário  \\\n",
              "count   904.00      904.00      904.00          904.00          904.00   \n",
              "mean    270.02     1225.24    19029.09          272.01          742.53   \n",
              "std      50.96      706.70       96.43          129.77          368.59   \n",
              "min     199.00      366.00    18815.00            5.09            9.99   \n",
              "25%     199.00      384.00    18964.75          324.69          758.00   \n",
              "50%     306.00     1202.00    19060.00          330.66          980.00   \n",
              "75%     307.00     1226.00    19107.00          348.58          998.00   \n",
              "max     307.00     2497.00    19145.00          348.58          999.00   \n",
              "\n",
              "       Quantidade  Valor Desconto  Valor Venda  \n",
              "count      904.00          904.00       904.00  \n",
              "mean        62.95          689.12      6620.14  \n",
              "std        148.95          822.36      4319.41  \n",
              "min          2.00            0.00       159.84  \n",
              "25%          6.00            0.00      3920.00  \n",
              "50%          9.00          461.17      5798.70  \n",
              "75%         17.00         1005.08      7986.00  \n",
              "max       1560.00         6272.00     29400.00  "
            ],
            "text/html": [
              "\n",
              "  <div id=\"df-3209f761-7efc-4dc1-8bfb-43e7a6eddf1c\">\n",
              "    <div class=\"colab-df-container\">\n",
              "      <div>\n",
              "<style scoped>\n",
              "    .dataframe tbody tr th:only-of-type {\n",
              "        vertical-align: middle;\n",
              "    }\n",
              "\n",
              "    .dataframe tbody tr th {\n",
              "        vertical-align: top;\n",
              "    }\n",
              "\n",
              "    .dataframe thead th {\n",
              "        text-align: right;\n",
              "    }\n",
              "</style>\n",
              "<table border=\"1\" class=\"dataframe\">\n",
              "  <thead>\n",
              "    <tr style=\"text-align: right;\">\n",
              "      <th></th>\n",
              "      <th>ID Loja</th>\n",
              "      <th>ID Produto</th>\n",
              "      <th>ID Cliente</th>\n",
              "      <th>Custo Unitário</th>\n",
              "      <th>Preço Unitário</th>\n",
              "      <th>Quantidade</th>\n",
              "      <th>Valor Desconto</th>\n",
              "      <th>Valor Venda</th>\n",
              "    </tr>\n",
              "  </thead>\n",
              "  <tbody>\n",
              "    <tr>\n",
              "      <th>count</th>\n",
              "      <td>904.00</td>\n",
              "      <td>904.00</td>\n",
              "      <td>904.00</td>\n",
              "      <td>904.00</td>\n",
              "      <td>904.00</td>\n",
              "      <td>904.00</td>\n",
              "      <td>904.00</td>\n",
              "      <td>904.00</td>\n",
              "    </tr>\n",
              "    <tr>\n",
              "      <th>mean</th>\n",
              "      <td>270.02</td>\n",
              "      <td>1225.24</td>\n",
              "      <td>19029.09</td>\n",
              "      <td>272.01</td>\n",
              "      <td>742.53</td>\n",
              "      <td>62.95</td>\n",
              "      <td>689.12</td>\n",
              "      <td>6620.14</td>\n",
              "    </tr>\n",
              "    <tr>\n",
              "      <th>std</th>\n",
              "      <td>50.96</td>\n",
              "      <td>706.70</td>\n",
              "      <td>96.43</td>\n",
              "      <td>129.77</td>\n",
              "      <td>368.59</td>\n",
              "      <td>148.95</td>\n",
              "      <td>822.36</td>\n",
              "      <td>4319.41</td>\n",
              "    </tr>\n",
              "    <tr>\n",
              "      <th>min</th>\n",
              "      <td>199.00</td>\n",
              "      <td>366.00</td>\n",
              "      <td>18815.00</td>\n",
              "      <td>5.09</td>\n",
              "      <td>9.99</td>\n",
              "      <td>2.00</td>\n",
              "      <td>0.00</td>\n",
              "      <td>159.84</td>\n",
              "    </tr>\n",
              "    <tr>\n",
              "      <th>25%</th>\n",
              "      <td>199.00</td>\n",
              "      <td>384.00</td>\n",
              "      <td>18964.75</td>\n",
              "      <td>324.69</td>\n",
              "      <td>758.00</td>\n",
              "      <td>6.00</td>\n",
              "      <td>0.00</td>\n",
              "      <td>3920.00</td>\n",
              "    </tr>\n",
              "    <tr>\n",
              "      <th>50%</th>\n",
              "      <td>306.00</td>\n",
              "      <td>1202.00</td>\n",
              "      <td>19060.00</td>\n",
              "      <td>330.66</td>\n",
              "      <td>980.00</td>\n",
              "      <td>9.00</td>\n",
              "      <td>461.17</td>\n",
              "      <td>5798.70</td>\n",
              "    </tr>\n",
              "    <tr>\n",
              "      <th>75%</th>\n",
              "      <td>307.00</td>\n",
              "      <td>1226.00</td>\n",
              "      <td>19107.00</td>\n",
              "      <td>348.58</td>\n",
              "      <td>998.00</td>\n",
              "      <td>17.00</td>\n",
              "      <td>1005.08</td>\n",
              "      <td>7986.00</td>\n",
              "    </tr>\n",
              "    <tr>\n",
              "      <th>max</th>\n",
              "      <td>307.00</td>\n",
              "      <td>2497.00</td>\n",
              "      <td>19145.00</td>\n",
              "      <td>348.58</td>\n",
              "      <td>999.00</td>\n",
              "      <td>1560.00</td>\n",
              "      <td>6272.00</td>\n",
              "      <td>29400.00</td>\n",
              "    </tr>\n",
              "  </tbody>\n",
              "</table>\n",
              "</div>\n",
              "      <button class=\"colab-df-convert\" onclick=\"convertToInteractive('df-3209f761-7efc-4dc1-8bfb-43e7a6eddf1c')\"\n",
              "              title=\"Convert this dataframe to an interactive table.\"\n",
              "              style=\"display:none;\">\n",
              "        \n",
              "  <svg xmlns=\"http://www.w3.org/2000/svg\" height=\"24px\"viewBox=\"0 0 24 24\"\n",
              "       width=\"24px\">\n",
              "    <path d=\"M0 0h24v24H0V0z\" fill=\"none\"/>\n",
              "    <path d=\"M18.56 5.44l.94 2.06.94-2.06 2.06-.94-2.06-.94-.94-2.06-.94 2.06-2.06.94zm-11 1L8.5 8.5l.94-2.06 2.06-.94-2.06-.94L8.5 2.5l-.94 2.06-2.06.94zm10 10l.94 2.06.94-2.06 2.06-.94-2.06-.94-.94-2.06-.94 2.06-2.06.94z\"/><path d=\"M17.41 7.96l-1.37-1.37c-.4-.4-.92-.59-1.43-.59-.52 0-1.04.2-1.43.59L10.3 9.45l-7.72 7.72c-.78.78-.78 2.05 0 2.83L4 21.41c.39.39.9.59 1.41.59.51 0 1.02-.2 1.41-.59l7.78-7.78 2.81-2.81c.8-.78.8-2.07 0-2.86zM5.41 20L4 18.59l7.72-7.72 1.47 1.35L5.41 20z\"/>\n",
              "  </svg>\n",
              "      </button>\n",
              "      \n",
              "  <style>\n",
              "    .colab-df-container {\n",
              "      display:flex;\n",
              "      flex-wrap:wrap;\n",
              "      gap: 12px;\n",
              "    }\n",
              "\n",
              "    .colab-df-convert {\n",
              "      background-color: #E8F0FE;\n",
              "      border: none;\n",
              "      border-radius: 50%;\n",
              "      cursor: pointer;\n",
              "      display: none;\n",
              "      fill: #1967D2;\n",
              "      height: 32px;\n",
              "      padding: 0 0 0 0;\n",
              "      width: 32px;\n",
              "    }\n",
              "\n",
              "    .colab-df-convert:hover {\n",
              "      background-color: #E2EBFA;\n",
              "      box-shadow: 0px 1px 2px rgba(60, 64, 67, 0.3), 0px 1px 3px 1px rgba(60, 64, 67, 0.15);\n",
              "      fill: #174EA6;\n",
              "    }\n",
              "\n",
              "    [theme=dark] .colab-df-convert {\n",
              "      background-color: #3B4455;\n",
              "      fill: #D2E3FC;\n",
              "    }\n",
              "\n",
              "    [theme=dark] .colab-df-convert:hover {\n",
              "      background-color: #434B5C;\n",
              "      box-shadow: 0px 1px 3px 1px rgba(0, 0, 0, 0.15);\n",
              "      filter: drop-shadow(0px 1px 2px rgba(0, 0, 0, 0.3));\n",
              "      fill: #FFFFFF;\n",
              "    }\n",
              "  </style>\n",
              "\n",
              "      <script>\n",
              "        const buttonEl =\n",
              "          document.querySelector('#df-3209f761-7efc-4dc1-8bfb-43e7a6eddf1c button.colab-df-convert');\n",
              "        buttonEl.style.display =\n",
              "          google.colab.kernel.accessAllowed ? 'block' : 'none';\n",
              "\n",
              "        async function convertToInteractive(key) {\n",
              "          const element = document.querySelector('#df-3209f761-7efc-4dc1-8bfb-43e7a6eddf1c');\n",
              "          const dataTable =\n",
              "            await google.colab.kernel.invokeFunction('convertToInteractive',\n",
              "                                                     [key], {});\n",
              "          if (!dataTable) return;\n",
              "\n",
              "          const docLinkHtml = 'Like what you see? Visit the ' +\n",
              "            '<a target=\"_blank\" href=https://colab.research.google.com/notebooks/data_table.ipynb>data table notebook</a>'\n",
              "            + ' to learn more about interactive tables.';\n",
              "          element.innerHTML = '';\n",
              "          dataTable['output_type'] = 'display_data';\n",
              "          await google.colab.output.renderOutput(dataTable, element);\n",
              "          const docLink = document.createElement('div');\n",
              "          docLink.innerHTML = docLinkHtml;\n",
              "          element.appendChild(docLink);\n",
              "        }\n",
              "      </script>\n",
              "    </div>\n",
              "  </div>\n",
              "  "
            ]
          },
          "metadata": {},
          "execution_count": 8
        }
      ]
    },
    {
      "cell_type": "code",
      "source": [
        "#verificando valores nulos\n",
        "pd.isnull(df).sum()"
      ],
      "metadata": {
        "colab": {
          "base_uri": "https://localhost:8080/"
        },
        "id": "c6c1FOSoCcxl",
        "outputId": "cbe583a0-4beb-4991-f3c2-ea678595fcea"
      },
      "execution_count": 9,
      "outputs": [
        {
          "output_type": "execute_result",
          "data": {
            "text/plain": [
              "Data Venda        0\n",
              "Data Envio        0\n",
              "ID Loja           0\n",
              "ID Produto        0\n",
              "ID Cliente        0\n",
              "No. Venda         0\n",
              "Custo Unitário    0\n",
              "Preço Unitário    0\n",
              "Quantidade        0\n",
              "Valor Desconto    0\n",
              "Valor Venda       0\n",
              "Produto           0\n",
              "Fabricante        0\n",
              "Marca             0\n",
              "Classe            0\n",
              "Cor               0\n",
              "dtype: int64"
            ]
          },
          "metadata": {},
          "execution_count": 9
        }
      ]
    },
    {
      "cell_type": "code",
      "source": [
        "df[\"Produto\"].value_counts()"
      ],
      "metadata": {
        "colab": {
          "base_uri": "https://localhost:8080/"
        },
        "id": "UGW_1p5JDFqf",
        "outputId": "c68b78a4-387e-4f55-c247-8cad26378f27"
      },
      "execution_count": 10,
      "outputs": [
        {
          "output_type": "execute_result",
          "data": {
            "text/plain": [
              "Adventure Works Laptop15.4W M1548 Black            123\n",
              "Fabrikam Trendsetter 2/3'' 17mm X100 Grey          118\n",
              "Adventure Works Laptop15.4W M1548 Red              115\n",
              "Fabrikam Trendsetter 2/3'' 17mm X100 Black         103\n",
              "Fabrikam Trendsetter 1/3'' 8.5mm X200 Grey          94\n",
              "Fabrikam Trendsetter 1/3'' 8.5mm X200 White         90\n",
              "Fabrikam Trendsetter 1/3'' 8.5mm X200 Black         89\n",
              "Headphone Adapter for Contoso Phone E130 Silver     87\n",
              "Headphone Adapter for Contoso Phone E130 White      85\n",
              "Name: Produto, dtype: int64"
            ]
          },
          "metadata": {},
          "execution_count": 10
        }
      ]
    },
    {
      "cell_type": "code",
      "source": [
        "df[\"Marca\"].value_counts()"
      ],
      "metadata": {
        "colab": {
          "base_uri": "https://localhost:8080/"
        },
        "id": "YueWr_f2DYlY",
        "outputId": "e60a3d21-8b7d-426b-d632-6a89ddea5000"
      },
      "execution_count": 11,
      "outputs": [
        {
          "output_type": "execute_result",
          "data": {
            "text/plain": [
              "Fabrikam           494\n",
              "Adventure Works    238\n",
              "Contoso            172\n",
              "Name: Marca, dtype: int64"
            ]
          },
          "metadata": {},
          "execution_count": 11
        }
      ]
    },
    {
      "cell_type": "code",
      "source": [
        "df[\"Cor\"].value_counts()"
      ],
      "metadata": {
        "colab": {
          "base_uri": "https://localhost:8080/"
        },
        "id": "4r4UkKWoDbtn",
        "outputId": "c13f9c9d-e593-42d5-c7cf-76b45127a2df"
      },
      "execution_count": 12,
      "outputs": [
        {
          "output_type": "execute_result",
          "data": {
            "text/plain": [
              "Black     315\n",
              "Grey      212\n",
              "White     175\n",
              "Red       115\n",
              "Silver     87\n",
              "Name: Cor, dtype: int64"
            ]
          },
          "metadata": {},
          "execution_count": 12
        }
      ]
    },
    {
      "cell_type": "code",
      "source": [
        "df[\"Fabricante\"].value_counts()"
      ],
      "metadata": {
        "colab": {
          "base_uri": "https://localhost:8080/"
        },
        "id": "BcLEvxDgD7iD",
        "outputId": "61b1bdd6-8951-4a85-e095-a506f7130296"
      },
      "execution_count": 13,
      "outputs": [
        {
          "output_type": "execute_result",
          "data": {
            "text/plain": [
              "Fabrikam, Inc.     494\n",
              "Adventure Works    238\n",
              "Contoso, Ltd       172\n",
              "Name: Fabricante, dtype: int64"
            ]
          },
          "metadata": {},
          "execution_count": 13
        }
      ]
    },
    {
      "cell_type": "markdown",
      "source": [
        "#Transformação dos dados "
      ],
      "metadata": {
        "id": "9pB_btqEEKVm"
      }
    },
    {
      "cell_type": "code",
      "source": [
        "# passar colunas para strings\n",
        "df[\"ID Loja\"] = df[\"ID Loja\"].astype(\"str\")\n",
        "df[\"ID Produto\"] = df[\"ID Produto\"].astype(\"str\")\n",
        "df[\"ID Cliente\"] = df[\"ID Cliente\"].astype(\"str\")"
      ],
      "metadata": {
        "id": "8IqyDD_sEQV6"
      },
      "execution_count": 14,
      "outputs": []
    },
    {
      "cell_type": "code",
      "source": [
        "# validando a estrutura\n",
        "df.dtypes"
      ],
      "metadata": {
        "colab": {
          "base_uri": "https://localhost:8080/"
        },
        "id": "BOjYQ1dknlXZ",
        "outputId": "fdbd6163-1b61-4308-f24d-1bbfb6ae3aec"
      },
      "execution_count": 15,
      "outputs": [
        {
          "output_type": "execute_result",
          "data": {
            "text/plain": [
              "Data Venda        datetime64[ns]\n",
              "Data Envio        datetime64[ns]\n",
              "ID Loja                   object\n",
              "ID Produto                object\n",
              "ID Cliente                object\n",
              "No. Venda                 object\n",
              "Custo Unitário           float64\n",
              "Preço Unitário           float64\n",
              "Quantidade                 int64\n",
              "Valor Desconto           float64\n",
              "Valor Venda              float64\n",
              "Produto                   object\n",
              "Fabricante                object\n",
              "Marca                     object\n",
              "Classe                    object\n",
              "Cor                       object\n",
              "dtype: object"
            ]
          },
          "metadata": {},
          "execution_count": 15
        }
      ]
    },
    {
      "cell_type": "code",
      "source": [
        "# criar coluna adicionais para análise\n",
        "\n",
        "df[\"Ano Venda\"] = df[\"Data Venda\"].dt.year \n",
        "df[\"Mes Venda\"] = df[\"Data Venda\"].dt.month\n",
        "df[\"Dia Venda\"] = df[\"Data Venda\"].dt.day\n",
        "df[\"Ano Envio\"] = df[\"Data Envio\"].dt.year \n",
        "df[\"Mes Envio\"] = df[\"Data Envio\"].dt.month\n",
        "df[\"Dia Envio\"] = df[\"Data Envio\"].dt.day\n",
        "\n",
        "# colunas calculadas\n",
        "df[\"Dias Envio\"] = (df[\"Data Envio\"] - df[\"Data Venda\"]).dt.days\n",
        "df[\"Valor Receita\"] = (df[\"Valor Venda\"] - df[\"Valor Desconto\"])\n",
        "df[\"Valor Custo\"] = (df[\"Custo Unitário\"] * df[\"Quantidade\"])\n",
        "df[\"Valor Lucro\"] = (df[\"Valor Venda\"] - (df[\"Valor Desconto\"] + df[\"Valor Custo\"]))\n",
        "\n",
        "# "
      ],
      "metadata": {
        "id": "DqxcTQ_0oAmG"
      },
      "execution_count": 16,
      "outputs": []
    },
    {
      "cell_type": "code",
      "source": [
        "df.dtypes"
      ],
      "metadata": {
        "colab": {
          "base_uri": "https://localhost:8080/"
        },
        "id": "C1luaFZbhmSF",
        "outputId": "3ec09470-1508-4bbf-c413-4eb4353a0b73"
      },
      "execution_count": 17,
      "outputs": [
        {
          "output_type": "execute_result",
          "data": {
            "text/plain": [
              "Data Venda        datetime64[ns]\n",
              "Data Envio        datetime64[ns]\n",
              "ID Loja                   object\n",
              "ID Produto                object\n",
              "ID Cliente                object\n",
              "No. Venda                 object\n",
              "Custo Unitário           float64\n",
              "Preço Unitário           float64\n",
              "Quantidade                 int64\n",
              "Valor Desconto           float64\n",
              "Valor Venda              float64\n",
              "Produto                   object\n",
              "Fabricante                object\n",
              "Marca                     object\n",
              "Classe                    object\n",
              "Cor                       object\n",
              "Ano Venda                  int64\n",
              "Mes Venda                  int64\n",
              "Dia Venda                  int64\n",
              "Ano Envio                  int64\n",
              "Mes Envio                  int64\n",
              "Dia Envio                  int64\n",
              "Dias Envio                 int64\n",
              "Valor Receita            float64\n",
              "Valor Custo              float64\n",
              "Valor Lucro              float64\n",
              "dtype: object"
            ]
          },
          "metadata": {},
          "execution_count": 17
        }
      ]
    },
    {
      "cell_type": "code",
      "source": [
        "df.sample(3)"
      ],
      "metadata": {
        "colab": {
          "base_uri": "https://localhost:8080/",
          "height": 286
        },
        "id": "NoYySbzTo5TK",
        "outputId": "de6cbaa0-e234-449a-c3f5-678534c08cbf"
      },
      "execution_count": 18,
      "outputs": [
        {
          "output_type": "execute_result",
          "data": {
            "text/plain": [
              "    Data Venda Data Envio ID Loja ID Produto ID Cliente       No. Venda  \\\n",
              "879 2008-12-29 2009-01-02     306        366      19060  200812293CS676   \n",
              "454 2009-02-23 2009-03-06     307        366      19117  200902233CS706   \n",
              "689 2008-09-27 2008-10-05     199       2496      18874  200809275CS695   \n",
              "\n",
              "     Custo Unitário  Preço Unitário  Quantidade  Valor Desconto  ...  \\\n",
              "879          348.58          758.00           6          909.60  ...   \n",
              "454          348.58          758.00          16         2425.60  ...   \n",
              "689            5.09            9.99         144          143.86  ...   \n",
              "\n",
              "     Ano Venda Mes Venda Dia Venda Ano Envio Mes Envio Dia Envio  Dias Envio  \\\n",
              "879       2008        12        29      2009         1         2           4   \n",
              "454       2009         2        23      2009         3         6          11   \n",
              "689       2008         9        27      2008        10         5           8   \n",
              "\n",
              "     Valor Receita  Valor Custo  Valor Lucro  \n",
              "879        2728.80      2091.48       637.32  \n",
              "454        7276.80      5577.28      1699.52  \n",
              "689        1150.85       732.96       417.89  \n",
              "\n",
              "[3 rows x 26 columns]"
            ],
            "text/html": [
              "\n",
              "  <div id=\"df-91fbef7d-aa65-4396-9246-d4bd6dac0e93\">\n",
              "    <div class=\"colab-df-container\">\n",
              "      <div>\n",
              "<style scoped>\n",
              "    .dataframe tbody tr th:only-of-type {\n",
              "        vertical-align: middle;\n",
              "    }\n",
              "\n",
              "    .dataframe tbody tr th {\n",
              "        vertical-align: top;\n",
              "    }\n",
              "\n",
              "    .dataframe thead th {\n",
              "        text-align: right;\n",
              "    }\n",
              "</style>\n",
              "<table border=\"1\" class=\"dataframe\">\n",
              "  <thead>\n",
              "    <tr style=\"text-align: right;\">\n",
              "      <th></th>\n",
              "      <th>Data Venda</th>\n",
              "      <th>Data Envio</th>\n",
              "      <th>ID Loja</th>\n",
              "      <th>ID Produto</th>\n",
              "      <th>ID Cliente</th>\n",
              "      <th>No. Venda</th>\n",
              "      <th>Custo Unitário</th>\n",
              "      <th>Preço Unitário</th>\n",
              "      <th>Quantidade</th>\n",
              "      <th>Valor Desconto</th>\n",
              "      <th>...</th>\n",
              "      <th>Ano Venda</th>\n",
              "      <th>Mes Venda</th>\n",
              "      <th>Dia Venda</th>\n",
              "      <th>Ano Envio</th>\n",
              "      <th>Mes Envio</th>\n",
              "      <th>Dia Envio</th>\n",
              "      <th>Dias Envio</th>\n",
              "      <th>Valor Receita</th>\n",
              "      <th>Valor Custo</th>\n",
              "      <th>Valor Lucro</th>\n",
              "    </tr>\n",
              "  </thead>\n",
              "  <tbody>\n",
              "    <tr>\n",
              "      <th>879</th>\n",
              "      <td>2008-12-29</td>\n",
              "      <td>2009-01-02</td>\n",
              "      <td>306</td>\n",
              "      <td>366</td>\n",
              "      <td>19060</td>\n",
              "      <td>200812293CS676</td>\n",
              "      <td>348.58</td>\n",
              "      <td>758.00</td>\n",
              "      <td>6</td>\n",
              "      <td>909.60</td>\n",
              "      <td>...</td>\n",
              "      <td>2008</td>\n",
              "      <td>12</td>\n",
              "      <td>29</td>\n",
              "      <td>2009</td>\n",
              "      <td>1</td>\n",
              "      <td>2</td>\n",
              "      <td>4</td>\n",
              "      <td>2728.80</td>\n",
              "      <td>2091.48</td>\n",
              "      <td>637.32</td>\n",
              "    </tr>\n",
              "    <tr>\n",
              "      <th>454</th>\n",
              "      <td>2009-02-23</td>\n",
              "      <td>2009-03-06</td>\n",
              "      <td>307</td>\n",
              "      <td>366</td>\n",
              "      <td>19117</td>\n",
              "      <td>200902233CS706</td>\n",
              "      <td>348.58</td>\n",
              "      <td>758.00</td>\n",
              "      <td>16</td>\n",
              "      <td>2425.60</td>\n",
              "      <td>...</td>\n",
              "      <td>2009</td>\n",
              "      <td>2</td>\n",
              "      <td>23</td>\n",
              "      <td>2009</td>\n",
              "      <td>3</td>\n",
              "      <td>6</td>\n",
              "      <td>11</td>\n",
              "      <td>7276.80</td>\n",
              "      <td>5577.28</td>\n",
              "      <td>1699.52</td>\n",
              "    </tr>\n",
              "    <tr>\n",
              "      <th>689</th>\n",
              "      <td>2008-09-27</td>\n",
              "      <td>2008-10-05</td>\n",
              "      <td>199</td>\n",
              "      <td>2496</td>\n",
              "      <td>18874</td>\n",
              "      <td>200809275CS695</td>\n",
              "      <td>5.09</td>\n",
              "      <td>9.99</td>\n",
              "      <td>144</td>\n",
              "      <td>143.86</td>\n",
              "      <td>...</td>\n",
              "      <td>2008</td>\n",
              "      <td>9</td>\n",
              "      <td>27</td>\n",
              "      <td>2008</td>\n",
              "      <td>10</td>\n",
              "      <td>5</td>\n",
              "      <td>8</td>\n",
              "      <td>1150.85</td>\n",
              "      <td>732.96</td>\n",
              "      <td>417.89</td>\n",
              "    </tr>\n",
              "  </tbody>\n",
              "</table>\n",
              "<p>3 rows × 26 columns</p>\n",
              "</div>\n",
              "      <button class=\"colab-df-convert\" onclick=\"convertToInteractive('df-91fbef7d-aa65-4396-9246-d4bd6dac0e93')\"\n",
              "              title=\"Convert this dataframe to an interactive table.\"\n",
              "              style=\"display:none;\">\n",
              "        \n",
              "  <svg xmlns=\"http://www.w3.org/2000/svg\" height=\"24px\"viewBox=\"0 0 24 24\"\n",
              "       width=\"24px\">\n",
              "    <path d=\"M0 0h24v24H0V0z\" fill=\"none\"/>\n",
              "    <path d=\"M18.56 5.44l.94 2.06.94-2.06 2.06-.94-2.06-.94-.94-2.06-.94 2.06-2.06.94zm-11 1L8.5 8.5l.94-2.06 2.06-.94-2.06-.94L8.5 2.5l-.94 2.06-2.06.94zm10 10l.94 2.06.94-2.06 2.06-.94-2.06-.94-.94-2.06-.94 2.06-2.06.94z\"/><path d=\"M17.41 7.96l-1.37-1.37c-.4-.4-.92-.59-1.43-.59-.52 0-1.04.2-1.43.59L10.3 9.45l-7.72 7.72c-.78.78-.78 2.05 0 2.83L4 21.41c.39.39.9.59 1.41.59.51 0 1.02-.2 1.41-.59l7.78-7.78 2.81-2.81c.8-.78.8-2.07 0-2.86zM5.41 20L4 18.59l7.72-7.72 1.47 1.35L5.41 20z\"/>\n",
              "  </svg>\n",
              "      </button>\n",
              "      \n",
              "  <style>\n",
              "    .colab-df-container {\n",
              "      display:flex;\n",
              "      flex-wrap:wrap;\n",
              "      gap: 12px;\n",
              "    }\n",
              "\n",
              "    .colab-df-convert {\n",
              "      background-color: #E8F0FE;\n",
              "      border: none;\n",
              "      border-radius: 50%;\n",
              "      cursor: pointer;\n",
              "      display: none;\n",
              "      fill: #1967D2;\n",
              "      height: 32px;\n",
              "      padding: 0 0 0 0;\n",
              "      width: 32px;\n",
              "    }\n",
              "\n",
              "    .colab-df-convert:hover {\n",
              "      background-color: #E2EBFA;\n",
              "      box-shadow: 0px 1px 2px rgba(60, 64, 67, 0.3), 0px 1px 3px 1px rgba(60, 64, 67, 0.15);\n",
              "      fill: #174EA6;\n",
              "    }\n",
              "\n",
              "    [theme=dark] .colab-df-convert {\n",
              "      background-color: #3B4455;\n",
              "      fill: #D2E3FC;\n",
              "    }\n",
              "\n",
              "    [theme=dark] .colab-df-convert:hover {\n",
              "      background-color: #434B5C;\n",
              "      box-shadow: 0px 1px 3px 1px rgba(0, 0, 0, 0.15);\n",
              "      filter: drop-shadow(0px 1px 2px rgba(0, 0, 0, 0.3));\n",
              "      fill: #FFFFFF;\n",
              "    }\n",
              "  </style>\n",
              "\n",
              "      <script>\n",
              "        const buttonEl =\n",
              "          document.querySelector('#df-91fbef7d-aa65-4396-9246-d4bd6dac0e93 button.colab-df-convert');\n",
              "        buttonEl.style.display =\n",
              "          google.colab.kernel.accessAllowed ? 'block' : 'none';\n",
              "\n",
              "        async function convertToInteractive(key) {\n",
              "          const element = document.querySelector('#df-91fbef7d-aa65-4396-9246-d4bd6dac0e93');\n",
              "          const dataTable =\n",
              "            await google.colab.kernel.invokeFunction('convertToInteractive',\n",
              "                                                     [key], {});\n",
              "          if (!dataTable) return;\n",
              "\n",
              "          const docLinkHtml = 'Like what you see? Visit the ' +\n",
              "            '<a target=\"_blank\" href=https://colab.research.google.com/notebooks/data_table.ipynb>data table notebook</a>'\n",
              "            + ' to learn more about interactive tables.';\n",
              "          element.innerHTML = '';\n",
              "          dataTable['output_type'] = 'display_data';\n",
              "          await google.colab.output.renderOutput(dataTable, element);\n",
              "          const docLink = document.createElement('div');\n",
              "          docLink.innerHTML = docLinkHtml;\n",
              "          element.appendChild(docLink);\n",
              "        }\n",
              "      </script>\n",
              "    </div>\n",
              "  </div>\n",
              "  "
            ]
          },
          "metadata": {},
          "execution_count": 18
        }
      ]
    },
    {
      "cell_type": "markdown",
      "source": [
        "# Análise exploratória do dados/negócio"
      ],
      "metadata": {
        "id": "DLTAWtvHml0H"
      }
    },
    {
      "cell_type": "code",
      "source": [
        "# Total de Receita \n",
        "print(\"Valor total de receitas do período:\", round(df['Valor Receita'].sum(),2))"
      ],
      "metadata": {
        "colab": {
          "base_uri": "https://localhost:8080/"
        },
        "id": "siGdB1i1rnFb",
        "outputId": "ca4c8281-4888-4a1d-d5c3-96627b9e47a7"
      },
      "execution_count": 19,
      "outputs": [
        {
          "output_type": "stream",
          "name": "stdout",
          "text": [
            "Valor total de receitas do período: 5361638.69\n"
          ]
        }
      ]
    },
    {
      "cell_type": "code",
      "source": [
        "# receita por ano de venda\n",
        "df.groupby(\"Ano Venda\")[\"Valor Receita\"].sum()"
      ],
      "metadata": {
        "colab": {
          "base_uri": "https://localhost:8080/"
        },
        "id": "XRwKUVARtDO0",
        "outputId": "9455ed62-dd90-4f59-cb3e-e706ed304b94"
      },
      "execution_count": 20,
      "outputs": [
        {
          "output_type": "execute_result",
          "data": {
            "text/plain": [
              "Ano Venda\n",
              "2008   2895173.63\n",
              "2009   2466465.05\n",
              "Name: Valor Receita, dtype: float64"
            ]
          },
          "metadata": {},
          "execution_count": 20
        }
      ]
    },
    {
      "cell_type": "code",
      "source": [
        "# Total de custos\n",
        "print(\"Valor total de custos no período;\", df[\"Valor Custo\"].sum())"
      ],
      "metadata": {
        "colab": {
          "base_uri": "https://localhost:8080/"
        },
        "id": "NrFogTZBuMOr",
        "outputId": "fe6723af-3835-4c19-b233-734e48960f2e"
      },
      "execution_count": 21,
      "outputs": [
        {
          "output_type": "stream",
          "name": "stdout",
          "text": [
            "Valor total de custos no período; 2486783.05\n"
          ]
        }
      ]
    },
    {
      "cell_type": "code",
      "source": [
        "# custos por ano de venda\n",
        "df.groupby(\"Ano Venda\")[\"Valor Custo\"].sum()\n",
        "\n",
        "#OBS. O valor do custo diminuiu no decorrer do período."
      ],
      "metadata": {
        "colab": {
          "base_uri": "https://localhost:8080/"
        },
        "id": "F0dqK4uavrGK",
        "outputId": "0b259d63-7f3e-43ce-8af3-c67d6930fbe8"
      },
      "execution_count": 22,
      "outputs": [
        {
          "output_type": "execute_result",
          "data": {
            "text/plain": [
              "Ano Venda\n",
              "2008   1267529.94\n",
              "2009   1219253.11\n",
              "Name: Valor Custo, dtype: float64"
            ]
          },
          "metadata": {},
          "execution_count": 22
        }
      ]
    },
    {
      "cell_type": "code",
      "source": [
        "# lucro por ano venda\n",
        "print(df.groupby(\"Ano Venda\")[\"Valor Lucro\"].sum())\n",
        "\n",
        "#OBS. O valor do lucro diminuiu no decorrer do período."
      ],
      "metadata": {
        "colab": {
          "base_uri": "https://localhost:8080/"
        },
        "id": "o56hI17jwQF1",
        "outputId": "c9c931c0-b813-436c-fe2d-4f88cf3bd767"
      },
      "execution_count": 23,
      "outputs": [
        {
          "output_type": "stream",
          "name": "stdout",
          "text": [
            "Ano Venda\n",
            "2008   1627643.69\n",
            "2009   1247211.94\n",
            "Name: Valor Lucro, dtype: float64\n"
          ]
        }
      ]
    },
    {
      "cell_type": "code",
      "source": [
        "# Se o lucro e custo diminuiram as vendas devem ter caido no período\n",
        "print(df.groupby(\"Ano Venda\")[\"Valor Venda\"].sum())\n",
        "df.groupby(\"Ano Venda\")[\"Valor Venda\"].sum().plot.barh(title=\"Vendas por Ano\")"
      ],
      "metadata": {
        "colab": {
          "base_uri": "https://localhost:8080/",
          "height": 467
        },
        "id": "p4TRxV7ewnAh",
        "outputId": "484eacb9-db53-4108-a32d-8205baab20d9"
      },
      "execution_count": 24,
      "outputs": [
        {
          "output_type": "stream",
          "name": "stdout",
          "text": [
            "Ano Venda\n",
            "2008   3187607.65\n",
            "2009   2796998.49\n",
            "Name: Valor Venda, dtype: float64\n"
          ]
        },
        {
          "output_type": "execute_result",
          "data": {
            "text/plain": [
              "<matplotlib.axes._subplots.AxesSubplot at 0x7f5007636250>"
            ]
          },
          "metadata": {},
          "execution_count": 24
        },
        {
          "output_type": "display_data",
          "data": {
            "text/plain": [
              "<Figure size 576x396 with 1 Axes>"
            ],
            "image/png": "[encoded data removed]"
          },
          "metadata": {}
        }
      ]
    },
    {
      "cell_type": "code",
      "source": [
        "print(\"Total de produtos vendidos:\", df[\"Quantidade\"].sum())\n",
        "df.groupby(\"Ano Venda\")[\"Quantidade\"].sum().plot.barh(title=\"Quantidade de Vendas por Ano\")"
      ],
      "metadata": {
        "colab": {
          "base_uri": "https://localhost:8080/",
          "height": 399
        },
        "id": "72ca_Z8m01sQ",
        "outputId": "18248854-147a-4d9b-c829-3d237132fe72"
      },
      "execution_count": 25,
      "outputs": [
        {
          "output_type": "stream",
          "name": "stdout",
          "text": [
            "Total de produtos vendidos: 56907\n"
          ]
        },
        {
          "output_type": "execute_result",
          "data": {
            "text/plain": [
              "<matplotlib.axes._subplots.AxesSubplot at 0x7f50075686a0>"
            ]
          },
          "metadata": {},
          "execution_count": 25
        },
        {
          "output_type": "display_data",
          "data": {
            "text/plain": [
              "<Figure size 576x396 with 1 Axes>"
            ],
            "image/png": "[encoded data removed]"
          },
          "metadata": {}
        }
      ]
    },
    {
      "cell_type": "code",
      "source": [
        "print(\"Total de produtos vendidos:\", df[\"Quantidade\"].sum())\n",
        "#df.groupby(\"Ano Venda\", \"Produto\")[\"Valor Venda\"].mean().plot.barh(title=\"Media de Vendas por Ano\")\n",
        "df.groupby([df[\"Ano Venda\"],\"Marca\"])[\"Valor Venda\"].mean().plot.barh(title=\"Media de Vendas por Ano\")"
      ],
      "metadata": {
        "colab": {
          "base_uri": "https://localhost:8080/",
          "height": 399
        },
        "id": "PFuaxb7105yS",
        "outputId": "d88f3176-59ea-4383-b240-e1160421d751"
      },
      "execution_count": 26,
      "outputs": [
        {
          "output_type": "stream",
          "name": "stdout",
          "text": [
            "Total de produtos vendidos: 56907\n"
          ]
        },
        {
          "output_type": "execute_result",
          "data": {
            "text/plain": [
              "<matplotlib.axes._subplots.AxesSubplot at 0x7f50071093d0>"
            ]
          },
          "metadata": {},
          "execution_count": 26
        },
        {
          "output_type": "display_data",
          "data": {
            "text/plain": [
              "<Figure size 576x396 with 1 Axes>"
            ],
            "image/png": "[encoded data removed]"
          },
          "metadata": {}
        }
      ]
    },
    {
      "cell_type": "code",
      "source": [
        "# vendas por fabrincante\n",
        "print(df.groupby([df[\"Ano Venda\"], \"Fabricante\"])[\"Valor Venda\"].sum())\n",
        "df.groupby(\"Fabricante\")[\"Valor Venda\"].sum().plot.barh(title=\"Fabricantes mais vendidos\")"
      ],
      "metadata": {
        "colab": {
          "base_uri": "https://localhost:8080/",
          "height": 541
        },
        "id": "fqtwvMjXvgAy",
        "outputId": "ca900e03-3803-4480-c8ba-d9540c758d53"
      },
      "execution_count": 27,
      "outputs": [
        {
          "output_type": "stream",
          "name": "stdout",
          "text": [
            "Ano Venda  Fabricante     \n",
            "2008       Adventure Works    623151.80\n",
            "           Contoso, Ltd       130897.97\n",
            "           Fabrikam, Inc.    2433557.88\n",
            "2009       Adventure Works    833451.32\n",
            "           Contoso, Ltd       319498.58\n",
            "           Fabrikam, Inc.    1644048.59\n",
            "Name: Valor Venda, dtype: float64\n"
          ]
        },
        {
          "output_type": "execute_result",
          "data": {
            "text/plain": [
              "<matplotlib.axes._subplots.AxesSubplot at 0x7f50070656d0>"
            ]
          },
          "metadata": {},
          "execution_count": 27
        },
        {
          "output_type": "display_data",
          "data": {
            "text/plain": [
              "<Figure size 576x396 with 1 Axes>"
            ],
            "image/png": "[encoded data removed]"
          },
          "metadata": {}
        }
      ]
    },
    {
      "cell_type": "code",
      "source": [
        "# Produto mais vendindo\n",
        "df.groupby(\"Produto\")[\"Valor Venda\"].sum().plot.barh(title=\"Produtos mais vendidos\")"
      ],
      "metadata": {
        "colab": {
          "base_uri": "https://localhost:8080/",
          "height": 393
        },
        "id": "r4jNSusfvkP4",
        "outputId": "b84a6850-aae2-4af2-f404-a42de70a42c3"
      },
      "execution_count": 28,
      "outputs": [
        {
          "output_type": "execute_result",
          "data": {
            "text/plain": [
              "<matplotlib.axes._subplots.AxesSubplot at 0x7f500703d130>"
            ]
          },
          "metadata": {},
          "execution_count": 28
        },
        {
          "output_type": "display_data",
          "data": {
            "text/plain": [
              "<Figure size 576x396 with 1 Axes>"
            ],
            "image/png": "[encoded data removed]"
          },
          "metadata": {}
        }
      ]
    },
    {
      "cell_type": "code",
      "source": [
        "#Lucro total\n",
        "print(\"Valor total do lucro  no periodo:\", round(df[\"Valor Lucro\"].sum(),2))"
      ],
      "metadata": {
        "colab": {
          "base_uri": "https://localhost:8080/"
        },
        "id": "EX78-iHnyZKQ",
        "outputId": "46ae02bb-4cbf-4b1a-8946-5dfb09658dbf"
      },
      "execution_count": 29,
      "outputs": [
        {
          "output_type": "stream",
          "name": "stdout",
          "text": [
            "Valor total do lucro  no periodo: 2874855.64\n"
          ]
        }
      ]
    },
    {
      "cell_type": "code",
      "source": [
        "#Prazo de envio\n",
        "print(\"Maior prazo de envio:\", df[\"Dias Envio\"].max())\n",
        "print(\"Menor prazo de envio:\", df[\"Dias Envio\"].min())\n",
        "print(\"Média prazo de envio:\", df[\"Dias Envio\"].mean())\n"
      ],
      "metadata": {
        "colab": {
          "base_uri": "https://localhost:8080/"
        },
        "id": "x0ruwY7TlFWk",
        "outputId": "75a2763f-09a8-49de-c345-0e104f20eb78"
      },
      "execution_count": 30,
      "outputs": [
        {
          "output_type": "stream",
          "name": "stdout",
          "text": [
            "Maior prazo de envio: 20\n",
            "Menor prazo de envio: 4\n",
            "Média prazo de envio: 8.543141592920353\n"
          ]
        }
      ]
    },
    {
      "cell_type": "code",
      "source": [
        "# tempo médio de envio por marca\n",
        "df.groupby(\"Marca\")[\"Dias Envio\"].mean()"
      ],
      "metadata": {
        "colab": {
          "base_uri": "https://localhost:8080/"
        },
        "id": "_dA_x6HzmloH",
        "outputId": "b8473701-c7c0-4273-bd47-518694d0fa3b"
      },
      "execution_count": 31,
      "outputs": [
        {
          "output_type": "execute_result",
          "data": {
            "text/plain": [
              "Marca\n",
              "Adventure Works   8.66\n",
              "Contoso           8.47\n",
              "Fabrikam          8.51\n",
              "Name: Dias Envio, dtype: float64"
            ]
          },
          "metadata": {},
          "execution_count": 31
        }
      ]
    },
    {
      "cell_type": "code",
      "source": [
        "# dias de envio\n",
        "print(df.value_counts(\"Produto\"))\n",
        "print(df.groupby(\"Produto\")[\"Dias Envio\"].mean())\n",
        "print(df.groupby([df[\"Produto\"],\"Marca\"])[\"Dias Envio\"].mean())"
      ],
      "metadata": {
        "colab": {
          "base_uri": "https://localhost:8080/"
        },
        "id": "YhO_44McmmWN",
        "outputId": "5e851cb4-efc4-4af2-8bf6-d7ab77a2a125"
      },
      "execution_count": 32,
      "outputs": [
        {
          "output_type": "stream",
          "name": "stdout",
          "text": [
            "Produto\n",
            "Adventure Works Laptop15.4W M1548 Black            123\n",
            "Fabrikam Trendsetter 2/3'' 17mm X100 Grey          118\n",
            "Adventure Works Laptop15.4W M1548 Red              115\n",
            "Fabrikam Trendsetter 2/3'' 17mm X100 Black         103\n",
            "Fabrikam Trendsetter 1/3'' 8.5mm X200 Grey          94\n",
            "Fabrikam Trendsetter 1/3'' 8.5mm X200 White         90\n",
            "Fabrikam Trendsetter 1/3'' 8.5mm X200 Black         89\n",
            "Headphone Adapter for Contoso Phone E130 Silver     87\n",
            "Headphone Adapter for Contoso Phone E130 White      85\n",
            "dtype: int64\n",
            "Produto\n",
            "Adventure Works Laptop15.4W M1548 Black           8.30\n",
            "Adventure Works Laptop15.4W M1548 Red             9.05\n",
            "Fabrikam Trendsetter 1/3'' 8.5mm X200 Black       8.67\n",
            "Fabrikam Trendsetter 1/3'' 8.5mm X200 Grey        8.26\n",
            "Fabrikam Trendsetter 1/3'' 8.5mm X200 White       8.69\n",
            "Fabrikam Trendsetter 2/3'' 17mm X100 Black        8.17\n",
            "Fabrikam Trendsetter 2/3'' 17mm X100 Grey         8.75\n",
            "Headphone Adapter for Contoso Phone E130 Silver   8.30\n",
            "Headphone Adapter for Contoso Phone E130 White    8.65\n",
            "Name: Dias Envio, dtype: float64\n",
            "Produto                                          Marca          \n",
            "Adventure Works Laptop15.4W M1548 Black          Adventure Works   8.30\n",
            "Adventure Works Laptop15.4W M1548 Red            Adventure Works   9.05\n",
            "Fabrikam Trendsetter 1/3'' 8.5mm X200 Black      Fabrikam          8.67\n",
            "Fabrikam Trendsetter 1/3'' 8.5mm X200 Grey       Fabrikam          8.26\n",
            "Fabrikam Trendsetter 1/3'' 8.5mm X200 White      Fabrikam          8.69\n",
            "Fabrikam Trendsetter 2/3'' 17mm X100 Black       Fabrikam          8.17\n",
            "Fabrikam Trendsetter 2/3'' 17mm X100 Grey        Fabrikam          8.75\n",
            "Headphone Adapter for Contoso Phone E130 Silver  Contoso           8.30\n",
            "Headphone Adapter for Contoso Phone E130 White   Contoso           8.65\n",
            "Name: Dias Envio, dtype: float64\n"
          ]
        }
      ]
    },
    {
      "cell_type": "code",
      "source": [
        "print(\"Total de produtos vendidos:\", df[\"Quantidade\"].sum())\n",
        "df.groupby(\"Ano Venda\")[\"Quantidade\"].sum().plot.barh(title=\"Total de Vendas por Ano\")"
      ],
      "metadata": {
        "colab": {
          "base_uri": "https://localhost:8080/",
          "height": 399
        },
        "id": "6XXNhBFurUzT",
        "outputId": "f0587d31-c0a7-442b-c2ec-71ca73f7a184"
      },
      "execution_count": 33,
      "outputs": [
        {
          "output_type": "stream",
          "name": "stdout",
          "text": [
            "Total de produtos vendidos: 56907\n"
          ]
        },
        {
          "output_type": "execute_result",
          "data": {
            "text/plain": [
              "<matplotlib.axes._subplots.AxesSubplot at 0x7f5006f9e460>"
            ]
          },
          "metadata": {},
          "execution_count": 33
        },
        {
          "output_type": "display_data",
          "data": {
            "text/plain": [
              "<Figure size 576x396 with 1 Axes>"
            ],
            "image/png": "[encoded data removed]"
          },
          "metadata": {}
        }
      ]
    },
    {
      "cell_type": "code",
      "source": [
        "df[df[\"Data Venda\"].dt.year == 2009].groupby(\"Mes Envio\")[\"Valor Venda\"].sum().plot(title=\"Vendas por Mês 2009\")"
      ],
      "metadata": {
        "colab": {
          "base_uri": "https://localhost:8080/",
          "height": 394
        },
        "id": "MfLk3mqOIwGc",
        "outputId": "8aaf1c20-54ea-46ea-b322-5b8471649ebd"
      },
      "execution_count": 34,
      "outputs": [
        {
          "output_type": "execute_result",
          "data": {
            "text/plain": [
              "<matplotlib.axes._subplots.AxesSubplot at 0x7f5006f88bb0>"
            ]
          },
          "metadata": {},
          "execution_count": 34
        },
        {
          "output_type": "display_data",
          "data": {
            "text/plain": [
              "<Figure size 576x396 with 1 Axes>"
            ],
            "image/png": "[encoded data removed]"
          },
          "metadata": {}
        }
      ]
    },
    {
      "cell_type": "code",
      "source": [
        "# Total de vendas por produto\n",
        "df.groupby(\"Produto\")[\"Quantidade\"].sum().plot.barh(title=\"Total de Vendas por Ano\")"
      ],
      "metadata": {
        "colab": {
          "base_uri": "https://localhost:8080/",
          "height": 380
        },
        "id": "6DUob0YfrwQv",
        "outputId": "ae79288c-daa4-4919-faaf-415bb5f188c3"
      },
      "execution_count": 35,
      "outputs": [
        {
          "output_type": "execute_result",
          "data": {
            "text/plain": [
              "<matplotlib.axes._subplots.AxesSubplot at 0x7f5006eee3a0>"
            ]
          },
          "metadata": {},
          "execution_count": 35
        },
        {
          "output_type": "display_data",
          "data": {
            "text/plain": [
              "<Figure size 576x396 with 1 Axes>"
            ],
            "image/png": "[encoded data removed]"
          },
          "metadata": {}
        }
      ]
    },
    {
      "cell_type": "code",
      "source": [
        "# Total de vendas por marca\n",
        "df.groupby(\"Marca\")[\"Valor Lucro\"].sum().plot.barh(title=\"Total de Lucro por Marca\")"
      ],
      "metadata": {
        "colab": {
          "base_uri": "https://localhost:8080/",
          "height": 393
        },
        "id": "jgxJ5_TYCtwI",
        "outputId": "9a09b5bd-b7e7-4dd8-9c06-7a0c01ad91f9"
      },
      "execution_count": 36,
      "outputs": [
        {
          "output_type": "execute_result",
          "data": {
            "text/plain": [
              "<matplotlib.axes._subplots.AxesSubplot at 0x7f5006f41610>"
            ]
          },
          "metadata": {},
          "execution_count": 36
        },
        {
          "output_type": "display_data",
          "data": {
            "text/plain": [
              "<Figure size 576x396 with 1 Axes>"
            ],
            "image/png": "[encoded data removed]"
          },
          "metadata": {}
        }
      ]
    },
    {
      "cell_type": "code",
      "source": [
        "#Gráfico de Boxplot\n",
        "plot.title(\"Dias de Envio\", loc=\"center\", fontsize=14)\n",
        "plot.ylabel(\"Quantidade de dias para envio\")\n",
        "plot.boxplot(df[\"Dias Envio\"]);"
      ],
      "metadata": {
        "colab": {
          "base_uri": "https://localhost:8080/",
          "height": 364
        },
        "id": "i8Pn936uDNz8",
        "outputId": "dd40f985-5052-492c-f919-c221f7dbd138"
      },
      "execution_count": 37,
      "outputs": [
        {
          "output_type": "display_data",
          "data": {
            "text/plain": [
              "<Figure size 576x396 with 1 Axes>"
            ],
            "image/png": "[encoded data removed]"
          },
          "metadata": {}
        }
      ]
    },
    {
      "cell_type": "code",
      "source": [
        "plot.hist(df[\"Dias Envio\"]);"
      ],
      "metadata": {
        "colab": {
          "base_uri": "https://localhost:8080/",
          "height": 347
        },
        "id": "F8GixaB3GNDr",
        "outputId": "cb1e5ba0-745f-4e2d-c1e0-7ac4ac4cc7e0"
      },
      "execution_count": 38,
      "outputs": [
        {
          "output_type": "display_data",
          "data": {
            "text/plain": [
              "<Figure size 576x396 with 1 Axes>"
            ],
            "image/png": "[encoded data removed]"
          },
          "metadata": {}
        }
      ]
    },
    {
      "cell_type": "code",
      "source": [
        "df.dtypes"
      ],
      "metadata": {
        "colab": {
          "base_uri": "https://localhost:8080/"
        },
        "id": "DCc4r2DhELW2",
        "outputId": "ae076322-916b-4f2f-ba48-2319c81d988c"
      },
      "execution_count": 39,
      "outputs": [
        {
          "output_type": "execute_result",
          "data": {
            "text/plain": [
              "Data Venda        datetime64[ns]\n",
              "Data Envio        datetime64[ns]\n",
              "ID Loja                   object\n",
              "ID Produto                object\n",
              "ID Cliente                object\n",
              "No. Venda                 object\n",
              "Custo Unitário           float64\n",
              "Preço Unitário           float64\n",
              "Quantidade                 int64\n",
              "Valor Desconto           float64\n",
              "Valor Venda              float64\n",
              "Produto                   object\n",
              "Fabricante                object\n",
              "Marca                     object\n",
              "Classe                    object\n",
              "Cor                       object\n",
              "Ano Venda                  int64\n",
              "Mes Venda                  int64\n",
              "Dia Venda                  int64\n",
              "Ano Envio                  int64\n",
              "Mes Envio                  int64\n",
              "Dia Envio                  int64\n",
              "Dias Envio                 int64\n",
              "Valor Receita            float64\n",
              "Valor Custo              float64\n",
              "Valor Lucro              float64\n",
              "dtype: object"
            ]
          },
          "metadata": {},
          "execution_count": 39
        }
      ]
    },
    {
      "cell_type": "code",
      "source": [
        "# HIstograma da quantidade de dias envio\n",
        "plot.boxplot(df[\"Dias Envio\"])"
      ],
      "metadata": {
        "colab": {
          "base_uri": "https://localhost:8080/",
          "height": 495
        },
        "id": "XrjEOxlvEp5g",
        "outputId": "544a0169-8b47-424b-fcfd-e26cf7247a00"
      },
      "execution_count": 40,
      "outputs": [
        {
          "output_type": "execute_result",
          "data": {
            "text/plain": [
              "{'whiskers': [<matplotlib.lines.Line2D at 0x7f5006cf9460>,\n",
              "  <matplotlib.lines.Line2D at 0x7f5006cf97c0>],\n",
              " 'caps': [<matplotlib.lines.Line2D at 0x7f5006cf9b20>,\n",
              "  <matplotlib.lines.Line2D at 0x7f5006cf9e80>],\n",
              " 'boxes': [<matplotlib.lines.Line2D at 0x7f5006cf9100>],\n",
              " 'medians': [<matplotlib.lines.Line2D at 0x7f5006d04220>],\n",
              " 'fliers': [<matplotlib.lines.Line2D at 0x7f5006d04520>],\n",
              " 'means': []}"
            ]
          },
          "metadata": {},
          "execution_count": 40
        },
        {
          "output_type": "display_data",
          "data": {
            "text/plain": [
              "<Figure size 576x396 with 1 Axes>"
            ],
            "image/png": "[encoded data removed]"
          },
          "metadata": {}
        }
      ]
    },
    {
      "cell_type": "code",
      "source": [
        "# Menor tempo de envio\n",
        "df[\"Dias Envio\"].min()"
      ],
      "metadata": {
        "colab": {
          "base_uri": "https://localhost:8080/"
        },
        "id": "xPEmFUxEH00g",
        "outputId": "3f0f9c5b-5c43-4319-a15c-2bc28444d20c"
      },
      "execution_count": 41,
      "outputs": [
        {
          "output_type": "execute_result",
          "data": {
            "text/plain": [
              "4"
            ]
          },
          "metadata": {},
          "execution_count": 41
        }
      ]
    },
    {
      "cell_type": "code",
      "source": [
        "# Maior tempo de envio\n",
        "df[\"Dias Envio\"].max()"
      ],
      "metadata": {
        "colab": {
          "base_uri": "https://localhost:8080/"
        },
        "id": "1tDXOTyJIkqu",
        "outputId": "203eb6b1-e333-43cc-f5fd-4d20dac0a9c2"
      },
      "execution_count": 42,
      "outputs": [
        {
          "output_type": "execute_result",
          "data": {
            "text/plain": [
              "20"
            ]
          },
          "metadata": {},
          "execution_count": 42
        }
      ]
    },
    {
      "cell_type": "code",
      "source": [
        "# Identificando o outlier\n",
        "df[df[\"Dias Envio\"] == 20]"
      ],
      "metadata": {
        "colab": {
          "base_uri": "https://localhost:8080/",
          "height": 189
        },
        "id": "oRLKKjnfLCO9",
        "outputId": "53c49206-938f-4324-992f-258457498e5e"
      },
      "execution_count": 43,
      "outputs": [
        {
          "output_type": "execute_result",
          "data": {
            "text/plain": [
              "  Data Venda Data Envio ID Loja ID Produto ID Cliente       No. Venda  \\\n",
              "0 2008-05-09 2008-05-29     199        384      18839  200805093CS607   \n",
              "\n",
              "   Custo Unitário  Preço Unitário  Quantidade  Valor Desconto  ...  Ano Venda  \\\n",
              "0          348.58          758.00           6            0.00  ...       2008   \n",
              "\n",
              "  Mes Venda Dia Venda Ano Envio Mes Envio Dia Envio  Dias Envio  \\\n",
              "0         5         9      2008         5        29          20   \n",
              "\n",
              "   Valor Receita  Valor Custo  Valor Lucro  \n",
              "0        4548.00      2091.48      2456.52  \n",
              "\n",
              "[1 rows x 26 columns]"
            ],
            "text/html": [
              "\n",
              "  <div id=\"df-69539d11-aa46-41bf-b26c-511e3cf5f8be\">\n",
              "    <div class=\"colab-df-container\">\n",
              "      <div>\n",
              "<style scoped>\n",
              "    .dataframe tbody tr th:only-of-type {\n",
              "        vertical-align: middle;\n",
              "    }\n",
              "\n",
              "    .dataframe tbody tr th {\n",
              "        vertical-align: top;\n",
              "    }\n",
              "\n",
              "    .dataframe thead th {\n",
              "        text-align: right;\n",
              "    }\n",
              "</style>\n",
              "<table border=\"1\" class=\"dataframe\">\n",
              "  <thead>\n",
              "    <tr style=\"text-align: right;\">\n",
              "      <th></th>\n",
              "      <th>Data Venda</th>\n",
              "      <th>Data Envio</th>\n",
              "      <th>ID Loja</th>\n",
              "      <th>ID Produto</th>\n",
              "      <th>ID Cliente</th>\n",
              "      <th>No. Venda</th>\n",
              "      <th>Custo Unitário</th>\n",
              "      <th>Preço Unitário</th>\n",
              "      <th>Quantidade</th>\n",
              "      <th>Valor Desconto</th>\n",
              "      <th>...</th>\n",
              "      <th>Ano Venda</th>\n",
              "      <th>Mes Venda</th>\n",
              "      <th>Dia Venda</th>\n",
              "      <th>Ano Envio</th>\n",
              "      <th>Mes Envio</th>\n",
              "      <th>Dia Envio</th>\n",
              "      <th>Dias Envio</th>\n",
              "      <th>Valor Receita</th>\n",
              "      <th>Valor Custo</th>\n",
              "      <th>Valor Lucro</th>\n",
              "    </tr>\n",
              "  </thead>\n",
              "  <tbody>\n",
              "    <tr>\n",
              "      <th>0</th>\n",
              "      <td>2008-05-09</td>\n",
              "      <td>2008-05-29</td>\n",
              "      <td>199</td>\n",
              "      <td>384</td>\n",
              "      <td>18839</td>\n",
              "      <td>200805093CS607</td>\n",
              "      <td>348.58</td>\n",
              "      <td>758.00</td>\n",
              "      <td>6</td>\n",
              "      <td>0.00</td>\n",
              "      <td>...</td>\n",
              "      <td>2008</td>\n",
              "      <td>5</td>\n",
              "      <td>9</td>\n",
              "      <td>2008</td>\n",
              "      <td>5</td>\n",
              "      <td>29</td>\n",
              "      <td>20</td>\n",
              "      <td>4548.00</td>\n",
              "      <td>2091.48</td>\n",
              "      <td>2456.52</td>\n",
              "    </tr>\n",
              "  </tbody>\n",
              "</table>\n",
              "<p>1 rows × 26 columns</p>\n",
              "</div>\n",
              "      <button class=\"colab-df-convert\" onclick=\"convertToInteractive('df-69539d11-aa46-41bf-b26c-511e3cf5f8be')\"\n",
              "              title=\"Convert this dataframe to an interactive table.\"\n",
              "              style=\"display:none;\">\n",
              "        \n",
              "  <svg xmlns=\"http://www.w3.org/2000/svg\" height=\"24px\"viewBox=\"0 0 24 24\"\n",
              "       width=\"24px\">\n",
              "    <path d=\"M0 0h24v24H0V0z\" fill=\"none\"/>\n",
              "    <path d=\"M18.56 5.44l.94 2.06.94-2.06 2.06-.94-2.06-.94-.94-2.06-.94 2.06-2.06.94zm-11 1L8.5 8.5l.94-2.06 2.06-.94-2.06-.94L8.5 2.5l-.94 2.06-2.06.94zm10 10l.94 2.06.94-2.06 2.06-.94-2.06-.94-.94-2.06-.94 2.06-2.06.94z\"/><path d=\"M17.41 7.96l-1.37-1.37c-.4-.4-.92-.59-1.43-.59-.52 0-1.04.2-1.43.59L10.3 9.45l-7.72 7.72c-.78.78-.78 2.05 0 2.83L4 21.41c.39.39.9.59 1.41.59.51 0 1.02-.2 1.41-.59l7.78-7.78 2.81-2.81c.8-.78.8-2.07 0-2.86zM5.41 20L4 18.59l7.72-7.72 1.47 1.35L5.41 20z\"/>\n",
              "  </svg>\n",
              "      </button>\n",
              "      \n",
              "  <style>\n",
              "    .colab-df-container {\n",
              "      display:flex;\n",
              "      flex-wrap:wrap;\n",
              "      gap: 12px;\n",
              "    }\n",
              "\n",
              "    .colab-df-convert {\n",
              "      background-color: #E8F0FE;\n",
              "      border: none;\n",
              "      border-radius: 50%;\n",
              "      cursor: pointer;\n",
              "      display: none;\n",
              "      fill: #1967D2;\n",
              "      height: 32px;\n",
              "      padding: 0 0 0 0;\n",
              "      width: 32px;\n",
              "    }\n",
              "\n",
              "    .colab-df-convert:hover {\n",
              "      background-color: #E2EBFA;\n",
              "      box-shadow: 0px 1px 2px rgba(60, 64, 67, 0.3), 0px 1px 3px 1px rgba(60, 64, 67, 0.15);\n",
              "      fill: #174EA6;\n",
              "    }\n",
              "\n",
              "    [theme=dark] .colab-df-convert {\n",
              "      background-color: #3B4455;\n",
              "      fill: #D2E3FC;\n",
              "    }\n",
              "\n",
              "    [theme=dark] .colab-df-convert:hover {\n",
              "      background-color: #434B5C;\n",
              "      box-shadow: 0px 1px 3px 1px rgba(0, 0, 0, 0.15);\n",
              "      filter: drop-shadow(0px 1px 2px rgba(0, 0, 0, 0.3));\n",
              "      fill: #FFFFFF;\n",
              "    }\n",
              "  </style>\n",
              "\n",
              "      <script>\n",
              "        const buttonEl =\n",
              "          document.querySelector('#df-69539d11-aa46-41bf-b26c-511e3cf5f8be button.colab-df-convert');\n",
              "        buttonEl.style.display =\n",
              "          google.colab.kernel.accessAllowed ? 'block' : 'none';\n",
              "\n",
              "        async function convertToInteractive(key) {\n",
              "          const element = document.querySelector('#df-69539d11-aa46-41bf-b26c-511e3cf5f8be');\n",
              "          const dataTable =\n",
              "            await google.colab.kernel.invokeFunction('convertToInteractive',\n",
              "                                                     [key], {});\n",
              "          if (!dataTable) return;\n",
              "\n",
              "          const docLinkHtml = 'Like what you see? Visit the ' +\n",
              "            '<a target=\"_blank\" href=https://colab.research.google.com/notebooks/data_table.ipynb>data table notebook</a>'\n",
              "            + ' to learn more about interactive tables.';\n",
              "          element.innerHTML = '';\n",
              "          dataTable['output_type'] = 'display_data';\n",
              "          await google.colab.output.renderOutput(dataTable, element);\n",
              "          const docLink = document.createElement('div');\n",
              "          docLink.innerHTML = docLinkHtml;\n",
              "          element.appendChild(docLink);\n",
              "        }\n",
              "      </script>\n",
              "    </div>\n",
              "  </div>\n",
              "  "
            ]
          },
          "metadata": {},
          "execution_count": 43
        }
      ]
    }
  ]
}